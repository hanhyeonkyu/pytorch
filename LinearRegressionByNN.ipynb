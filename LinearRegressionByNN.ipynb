{
 "cells": [
  {
   "cell_type": "code",
   "execution_count": 1,
   "id": "a6366dac-fe17-4c7b-9dbe-a0f56b9f70fd",
   "metadata": {},
   "outputs": [],
   "source": [
    "import torch\n",
    "import torch.nn as nn\n",
    "import torch.nn.functional as F\n",
    "import torch.optim as optim"
   ]
  },
  {
   "cell_type": "code",
   "execution_count": 14,
   "id": "8e42f497-dff4-412b-84ff-5fb450c39c6c",
   "metadata": {},
   "outputs": [
    {
     "name": "stdout",
     "output_type": "stream",
     "text": [
      "Epoch    0/100000 Cost: 31584.347656\n",
      "Epoch 10000/100000 Cost: 0.159584\n",
      "Epoch 20000/100000 Cost: 0.130602\n",
      "Epoch 30000/100000 Cost: 0.129314\n",
      "Epoch 40000/100000 Cost: 0.128685\n",
      "Epoch 50000/100000 Cost: 0.128067\n",
      "Epoch 60000/100000 Cost: 0.127441\n",
      "Epoch 70000/100000 Cost: 0.126823\n",
      "Epoch 80000/100000 Cost: 0.126210\n",
      "Epoch 90000/100000 Cost: 0.125611\n",
      "Epoch 100000/100000 Cost: 0.125005\n",
      "[Parameter containing:\n",
      "tensor([[1.2227, 0.6515, 0.1440]], requires_grad=True), Parameter containing:\n",
      "tensor([0.2054], requires_grad=True)]\n",
      "tensor([[177.8829]], grad_fn=<AddmmBackward0>)\n"
     ]
    }
   ],
   "source": [
    "# if restart, get same result. random seed set\n",
    "torch.manual_seed(1)\n",
    "# train data\n",
    "x_train  =  torch.FloatTensor([[73,  80,  75], \n",
    "                               [93,  88,  93], \n",
    "                               [89,  91,  80], \n",
    "                               [96,  98,  100],   \n",
    "                               [73,  66,  70]])  \n",
    "y_train  =  torch.FloatTensor([[152],  [185],  [180],  [196],  [142]])\n",
    "model = nn.Linear(3,1)\n",
    "# optimizer\n",
    "optimizer = torch.optim.SGD(model.parameters(), lr=1e-5)\n",
    "# training\n",
    "nb_epochs = 100000\n",
    "for epoch in range(nb_epochs+1):\n",
    "    # hypothesis\n",
    "    prediction = model(x_train)\n",
    "    # cost function \n",
    "    cost = F.mse_loss(prediction, y_train)\n",
    "    # cost -> hypothesis update\n",
    "    optimizer.zero_grad()\n",
    "    # differential cost function\n",
    "    cost.backward()\n",
    "    # w, b update(parameter update)\n",
    "    optimizer.step()\n",
    "    # print log\n",
    "    if epoch % 10000 == 0:\n",
    "      print('Epoch {:4d}/{} Cost: {:.6f}'.format(\n",
    "          epoch, nb_epochs, cost.item()\n",
    "      ))\n",
    "# random input value\n",
    "new_var =  torch.FloatTensor([[85,  90,  105]])\n",
    "# predition\n",
    "pred_y = model(new_var)\n",
    "# print model parameter\n",
    "print(list(model.parameters()))\n",
    "print(pred_y)"
   ]
  },
  {
   "cell_type": "code",
   "execution_count": null,
   "id": "d81032c5-79d6-4302-9507-d5caa81f770a",
   "metadata": {},
   "outputs": [],
   "source": []
  }
 ],
 "metadata": {
  "kernelspec": {
   "display_name": "Python 3 (ipykernel)",
   "language": "python",
   "name": "python3"
  },
  "language_info": {
   "codemirror_mode": {
    "name": "ipython",
    "version": 3
   },
   "file_extension": ".py",
   "mimetype": "text/x-python",
   "name": "python",
   "nbconvert_exporter": "python",
   "pygments_lexer": "ipython3",
   "version": "3.8.12"
  }
 },
 "nbformat": 4,
 "nbformat_minor": 5
}
