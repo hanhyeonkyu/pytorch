{
 "cells": [
  {
   "cell_type": "code",
   "execution_count": 1,
   "id": "05d639be-1e01-4e9a-af0f-b9e38e081552",
   "metadata": {},
   "outputs": [],
   "source": [
    "import torch\n",
    "import torch.nn as nn\n",
    "import torch.nn.functional as F\n",
    "import torch.optim as optim\n",
    "from torch.utils.data import TensorDataset\n",
    "from torch.utils.data import DataLoader"
   ]
  },
  {
   "cell_type": "code",
   "execution_count": 6,
   "id": "cdfb8236-4f8c-4e6d-a220-4075bbac1411",
   "metadata": {},
   "outputs": [
    {
     "name": "stdout",
     "output_type": "stream",
     "text": [
      "Epoch    0/6000 Batch 1/3 Cost: 35603.480469\n",
      "Epoch    0/6000 Batch 2/3 Cost: 22847.773438\n",
      "Epoch    0/6000 Batch 3/3 Cost: 40331.722656\n",
      "Epoch 2000/6000 Batch 1/3 Cost: 498.420532\n",
      "Epoch 2000/6000 Batch 2/3 Cost: 314.975616\n",
      "Epoch 2000/6000 Batch 3/3 Cost: 20.797495\n",
      "Epoch 4000/6000 Batch 1/3 Cost: 191.671127\n",
      "Epoch 4000/6000 Batch 2/3 Cost: 425.744781\n",
      "Epoch 4000/6000 Batch 3/3 Cost: 17.673164\n",
      "Epoch 6000/6000 Batch 1/3 Cost: 223.447311\n",
      "Epoch 6000/6000 Batch 2/3 Cost: 264.276062\n",
      "Epoch 6000/6000 Batch 3/3 Cost: 31.304768\n",
      "input 73, 80, 75 prediction : tensor([[157.1441]], grad_fn=<AddmmBackward0>)\n",
      "[Parameter containing:\n",
      "tensor([[0.9831, 0.7747, 0.3049]], requires_grad=True), Parameter containing:\n",
      "tensor([0.5337], requires_grad=True)]\n"
     ]
    }
   ],
   "source": [
    "# train data\n",
    "x_train  =  torch.FloatTensor([[73,  80,  75], \n",
    "                               [93,  88,  93], \n",
    "                               [89,  91,  90], \n",
    "                               [96,  98,  100],   \n",
    "                               [73,  66,  70],\n",
    "                               [63,  70,  95],  \n",
    "                               [83,  88,  93], \n",
    "                               [109,  99,  76], \n",
    "                               [96,  48,  100],   \n",
    "                               [56,  86,  74]])  \n",
    "y_train  =  torch.FloatTensor([[152],  [185],  [180],  [196],  [142], [132],  [205],  [210],  [146],  [172]])\n",
    "# use tensorDataset\n",
    "dataset = TensorDataset(x_train, y_train)\n",
    "# can use tensorDataset by dataloader \n",
    "dataloader = DataLoader(dataset, batch_size=4, shuffle=True)\n",
    "# set optimizer\n",
    "model = nn.Linear(3,1)\n",
    "optimizer = torch.optim.SGD(model.parameters(), lr=1e-7)\n",
    "nb_epochs = 6000\n",
    "for epoch in range(nb_epochs+1):\n",
    "    for batch_idx, samples in enumerate(dataloader):\n",
    "        # samples split x, y\n",
    "        x_train, y_train = samples\n",
    "        # hypothesis\n",
    "        prediction = model(x_train)\n",
    "        # cost function\n",
    "        cost = F.mse_loss(prediction, y_train)\n",
    "        # cost -> hypothesis update\n",
    "        optimizer.zero_grad()\n",
    "        # differential cost function\n",
    "        cost.backward()\n",
    "        # w, b update(parameter update)\n",
    "        optimizer.step()\n",
    "        if epoch % 2000 == 0:\n",
    "            print('Epoch {:4d}/{} Batch {}/{} Cost: {:.6f}'.format(\n",
    "                epoch, nb_epochs, batch_idx+1, len(dataloader),\n",
    "                cost.item()\n",
    "                ))\n",
    "# random test input value\n",
    "new_var =  torch.FloatTensor([[73, 80, 75]]) \n",
    "# predit\n",
    "pred_y = model(new_var) \n",
    "print(\"input 73, 80, 75 prediction :\", pred_y) \n",
    "print(list(model.parameters()))"
   ]
  },
  {
   "cell_type": "code",
   "execution_count": null,
   "id": "af30ff96-294d-42f0-ac84-de92226f9a45",
   "metadata": {},
   "outputs": [],
   "source": []
  }
 ],
 "metadata": {
  "kernelspec": {
   "display_name": "Python 3 (ipykernel)",
   "language": "python",
   "name": "python3"
  },
  "language_info": {
   "codemirror_mode": {
    "name": "ipython",
    "version": 3
   },
   "file_extension": ".py",
   "mimetype": "text/x-python",
   "name": "python",
   "nbconvert_exporter": "python",
   "pygments_lexer": "ipython3",
   "version": "3.8.12"
  }
 },
 "nbformat": 4,
 "nbformat_minor": 5
}
