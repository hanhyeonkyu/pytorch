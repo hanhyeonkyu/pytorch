{
 "cells": [
  {
   "cell_type": "code",
   "execution_count": 1,
   "id": "c304f9a5-f676-4d0f-8f0c-27410ac447b3",
   "metadata": {},
   "outputs": [],
   "source": [
    "import torch\n",
    "import torch.nn as nn\n",
    "import torch.nn.functional as F\n",
    "import torch.optim as optim\n",
    "from torch.utils.data import TensorDataset\n",
    "from torch.utils.data import DataLoader\n",
    "from torch.utils.data import Dataset"
   ]
  },
  {
   "cell_type": "code",
   "execution_count": 8,
   "id": "033ca9c1-73c9-4a89-9844-28e03d008031",
   "metadata": {},
   "outputs": [
    {
     "name": "stdout",
     "output_type": "stream",
     "text": [
      "Epoch    0/10000 Cost: 0.539713 Accuracy 83.33%\n",
      "Epoch 1000/10000 Cost: 0.407780 Accuracy 83.33%\n",
      "Epoch 2000/10000 Cost: 0.345724 Accuracy 83.33%\n",
      "Epoch 3000/10000 Cost: 0.298402 Accuracy 83.33%\n",
      "Epoch 4000/10000 Cost: 0.261259 Accuracy 83.33%\n",
      "Epoch 5000/10000 Cost: 0.231710 Accuracy 100.00%\n",
      "Epoch 6000/10000 Cost: 0.207852 Accuracy 100.00%\n",
      "Epoch 7000/10000 Cost: 0.188298 Accuracy 100.00%\n",
      "Epoch 8000/10000 Cost: 0.172039 Accuracy 100.00%\n",
      "Epoch 9000/10000 Cost: 0.158340 Accuracy 100.00%\n",
      "Epoch 10000/10000 Cost: 0.146659 Accuracy 100.00%\n",
      "[Parameter containing:\n",
      "tensor([[1.4842, 0.3282]], requires_grad=True), Parameter containing:\n",
      "tensor([-5.6320], requires_grad=True)]\n"
     ]
    }
   ],
   "source": [
    "# logistic regression used by nn module\n",
    "# if restart, get same result. random seed set\n",
    "torch.manual_seed(1)\n",
    "# train data\n",
    "x_data = [[1, 2], [2, 3], [3, 1], [4, 3], [5, 3], [6, 2]]\n",
    "y_data = [[0], [0], [0], [1], [1], [1]]\n",
    "x_train = torch.FloatTensor(x_data)\n",
    "y_train = torch.FloatTensor(y_data)\n",
    "# Sequential accumulates nn.Module -> use multiple function connect\n",
    "model = nn.Sequential(\n",
    "   nn.Linear(2, 1),\n",
    "   nn.Sigmoid()\n",
    ")\n",
    "# already W, b initialize, insert train data into model\n",
    "# model(x_train)\n",
    "# optimizer\n",
    "optimizer = optim.SGD(model.parameters(), lr=1e-2)\n",
    "# training\n",
    "nb_epochs = 10000\n",
    "for epoch in range(nb_epochs + 1):\n",
    "    # hypothesis\n",
    "    hypothesis = model(x_train)\n",
    "    # cost function\n",
    "    cost = F.binary_cross_entropy(hypothesis, y_train)\n",
    "    # cost -> hypothesis update\n",
    "    optimizer.zero_grad()\n",
    "    cost.backward()\n",
    "    optimizer.step()\n",
    "    # print log\n",
    "    if epoch % 1000 == 0:\n",
    "        # set binary standard\n",
    "        prediction = hypothesis >= torch.FloatTensor([0.5])\n",
    "        # actual value == predict value\n",
    "        correct_prediction = prediction.float() == y_train\n",
    "        # calculate accuracy\n",
    "        accuracy = correct_prediction.sum().item() / len(correct_prediction)\n",
    "        print('Epoch {:4d}/{} Cost: {:.6f} Accuracy {:2.2f}%'.format(epoch, nb_epochs, cost.item(), accuracy * 100))\n",
    "print(list(model.parameters()))"
   ]
  },
  {
   "cell_type": "code",
   "execution_count": null,
   "id": "fee7b0bf-358b-4572-98b9-e242df2398be",
   "metadata": {},
   "outputs": [],
   "source": []
  }
 ],
 "metadata": {
  "kernelspec": {
   "display_name": "Python 3 (ipykernel)",
   "language": "python",
   "name": "python3"
  },
  "language_info": {
   "codemirror_mode": {
    "name": "ipython",
    "version": 3
   },
   "file_extension": ".py",
   "mimetype": "text/x-python",
   "name": "python",
   "nbconvert_exporter": "python",
   "pygments_lexer": "ipython3",
   "version": "3.8.12"
  }
 },
 "nbformat": 4,
 "nbformat_minor": 5
}
