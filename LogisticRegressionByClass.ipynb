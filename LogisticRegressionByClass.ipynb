{
 "cells": [
  {
   "cell_type": "code",
   "execution_count": 1,
   "id": "b9bf55e6-8130-428c-bc02-cab58b7b2659",
   "metadata": {},
   "outputs": [],
   "source": [
    "import torch\n",
    "import torch.nn as nn\n",
    "import torch.nn.functional as F\n",
    "import torch.optim as optim\n",
    "from torch.utils.data import TensorDataset\n",
    "from torch.utils.data import DataLoader\n",
    "from torch.utils.data import Dataset"
   ]
  },
  {
   "cell_type": "code",
   "execution_count": 3,
   "id": "eb2805dd-448e-4f08-9caf-2b6359a55e38",
   "metadata": {},
   "outputs": [],
   "source": [
    "# model -> class\n",
    "# model = nn.Sequential(\n",
    "#     nn.Linear(2,1),\n",
    "#     nn.Sigmoid()\n",
    "# )\n",
    "class BinaryClassifier(nn.Module):\n",
    "    def __init__(self):\n",
    "        super().__init__()\n",
    "        self.linear = nn.Linear(2, 1)\n",
    "        self.sigmoid = nn.Sigmoid()\n",
    "    def forward(self, x):\n",
    "        return self.sigmoid(self.linear(x))"
   ]
  },
  {
   "cell_type": "code",
   "execution_count": 6,
   "id": "e763bfd8-09fe-4dd2-b872-f2fd1c2c1dc4",
   "metadata": {},
   "outputs": [
    {
     "name": "stdout",
     "output_type": "stream",
     "text": [
      "Epoch    0/50000 Cost: 0.539713 Accuracy 83.33%\n",
      "Epoch 5000/50000 Cost: 0.231710 Accuracy 100.00%\n",
      "Epoch 10000/50000 Cost: 0.146659 Accuracy 100.00%\n",
      "Epoch 15000/50000 Cost: 0.107273 Accuracy 100.00%\n",
      "Epoch 20000/50000 Cost: 0.084772 Accuracy 100.00%\n",
      "Epoch 25000/50000 Cost: 0.070207 Accuracy 100.00%\n",
      "Epoch 30000/50000 Cost: 0.059991 Accuracy 100.00%\n",
      "Epoch 35000/50000 Cost: 0.052418 Accuracy 100.00%\n",
      "Epoch 40000/50000 Cost: 0.046570 Accuracy 100.00%\n",
      "Epoch 45000/50000 Cost: 0.041915 Accuracy 100.00%\n",
      "Epoch 50000/50000 Cost: 0.038118 Accuracy 100.00%\n"
     ]
    }
   ],
   "source": [
    "# logistic regression\n",
    "# if restart, get same result. random seed set\n",
    "torch.manual_seed(1)\n",
    "# train data\n",
    "x_data = [[1, 2], [2, 3], [3, 1], [4, 3], [5, 3], [6, 2]]\n",
    "y_data = [[0], [0], [0], [1], [1], [1]]\n",
    "x_train = torch.FloatTensor(x_data)\n",
    "y_train = torch.FloatTensor(y_data)\n",
    "# get model class\n",
    "model = BinaryClassifier()\n",
    "# optimizer\n",
    "optimizer = optim.SGD(model.parameters(), lr=1e-2)\n",
    "nb_epochs = 50000\n",
    "for epoch in range(nb_epochs+1):\n",
    "    # hypothesis\n",
    "    hypothesis = model(x_train)\n",
    "    # cost function\n",
    "    cost = F.binary_cross_entropy(hypothesis, y_train)\n",
    "    # cost -> hypothesis update\n",
    "    optimizer.zero_grad()\n",
    "    cost.backward()\n",
    "    optimizer.step()\n",
    "    # training\n",
    "    if epoch % 5000 == 0:\n",
    "        # set binary standard\n",
    "        prediction = hypothesis >= torch.FloatTensor([0.5])\n",
    "        # actual value == predict value\n",
    "        correct_prediction = prediction.float() == y_train\n",
    "        # calculate accuracy\n",
    "        accuracy = correct_prediction.sum().item() / len(correct_prediction)\n",
    "        print('Epoch {:4d}/{} Cost: {:.6f} Accuracy {:2.2f}%'.format(epoch, nb_epochs, cost.item(), accuracy * 100))"
   ]
  },
  {
   "cell_type": "code",
   "execution_count": null,
   "id": "2f159b73-fe0e-4616-83e5-40ea1557e8e4",
   "metadata": {},
   "outputs": [],
   "source": []
  }
 ],
 "metadata": {
  "kernelspec": {
   "display_name": "Python 3 (ipykernel)",
   "language": "python",
   "name": "python3"
  },
  "language_info": {
   "codemirror_mode": {
    "name": "ipython",
    "version": 3
   },
   "file_extension": ".py",
   "mimetype": "text/x-python",
   "name": "python",
   "nbconvert_exporter": "python",
   "pygments_lexer": "ipython3",
   "version": "3.8.12"
  }
 },
 "nbformat": 4,
 "nbformat_minor": 5
}
