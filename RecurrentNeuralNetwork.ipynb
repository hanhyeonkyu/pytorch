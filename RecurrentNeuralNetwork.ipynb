{
 "cells": [
  {
   "cell_type": "code",
   "execution_count": 2,
   "id": "dc21d07a-06cf-4983-a031-b775d4bfa4cf",
   "metadata": {},
   "outputs": [],
   "source": [
    "# RNN(Recurrent Neural Network) => Sequence model\n",
    "# activate function in hidden layer go to output layer & next input layer -> this cell remember previous output. it is called RNN cell or memory cell.\n",
    "# h(t) = tanh(W(x)X(t) + W(h)h(t-1) + b)\n",
    "# hidden_state_t = 0 # 초기 은닉 상태를 0(벡터)로 초기화\n",
    "# for input_t in input_length: # 각 시점마다 입력을 받는다.\n",
    "#     output_t = tanh(input_t, hidden_state_t) # 각 시점에 대해서 입력과 은닉 상태를 가지고 연산\n",
    "#     hidden_state_t = output_t # 계산 결과는 현재 시점의 은닉 상태가 된다."
   ]
  },
  {
   "cell_type": "code",
   "execution_count": 6,
   "id": "d31dad92-4913-4a7e-9627-e6f52f4acbcd",
   "metadata": {},
   "outputs": [
    {
     "name": "stdout",
     "output_type": "stream",
     "text": [
      "[0. 0. 0. 0. 0. 0. 0. 0.]\n",
      "(8, 4)\n",
      "(8, 8)\n",
      "(8,)\n",
      "(1, 8)\n",
      "(2, 8)\n",
      "(3, 8)\n",
      "(4, 8)\n",
      "(5, 8)\n",
      "(6, 8)\n",
      "(7, 8)\n",
      "(8, 8)\n",
      "(9, 8)\n",
      "(10, 8)\n",
      "[[0.7528342  0.53344021 0.76657719 0.41749546 0.54884167 0.87962965\n",
      "  0.81411898 0.86778439]\n",
      " [0.99945595 0.99992359 0.99918046 0.99906041 0.99797677 0.99991487\n",
      "  0.99996709 0.99985306]\n",
      " [0.99998018 0.99999585 0.99996291 0.9999678  0.99992637 0.99999826\n",
      "  0.99999876 0.99999614]\n",
      " [0.99996722 0.99999644 0.99996381 0.99996283 0.99990787 0.99999743\n",
      "  0.9999985  0.99999519]\n",
      " [0.99996922 0.99999184 0.99996063 0.99993314 0.99986016 0.99999524\n",
      "  0.99999783 0.99999179]\n",
      " [0.99997702 0.99999551 0.99996664 0.99995844 0.99992884 0.99999799\n",
      "  0.99999866 0.99999553]\n",
      " [0.99991939 0.99998299 0.99996473 0.9998473  0.99978892 0.99998587\n",
      "  0.999993   0.99998175]\n",
      " [0.99994554 0.99997907 0.99995756 0.99985592 0.99972942 0.9999854\n",
      "  0.99999427 0.99998121]\n",
      " [0.99994227 0.9999945  0.99996114 0.99994422 0.99984729 0.9999943\n",
      "  0.99999704 0.9999918 ]\n",
      " [0.99994989 0.9999648  0.9999484  0.99989727 0.99971102 0.9999859\n",
      "  0.99998792 0.99998313]]\n"
     ]
    }
   ],
   "source": [
    "import numpy as np\n",
    "timesteps = 10 # 시점의 수. NLP에서는 보통 문장의 길이가 된다.\n",
    "input_size = 4 # 입력의 차원. NLP에서는 보통 단어 벡터의 차원이 된다.\n",
    "hidden_size = 8 # 은닉 상태의 크기. 메모리 셀의 용량이다.\n",
    "inputs = np.random.random((timesteps, input_size)) # 입력에 해당되는 2D 텐서\n",
    "hidden_state_t = np.zeros((hidden_size,)) # 초기 은닉 상태는 0(벡터)로 초기화\n",
    "# 은닉 상태의 크기 hidden_size로 은닉 상태를 만듬.\n",
    "print(hidden_state_t) # 8의 크기를 가지는 은닉 상태. 현재는 초기 은닉 상태로 모든 차원이 0의 값을 가짐.\n",
    "Wx = np.random.random((hidden_size, input_size))  # (8, 4)크기의 2D 텐서 생성. 입력에 대한 가중치.\n",
    "Wh = np.random.random((hidden_size, hidden_size)) # (8, 8)크기의 2D 텐서 생성. 은닉 상태에 대한 가중치.\n",
    "b = np.random.random((hidden_size,)) # (8,)크기의 1D 텐서 생성. 이 값은 편향(bias).\n",
    "print(np.shape(Wx))\n",
    "print(np.shape(Wh))\n",
    "print(np.shape(b))\n",
    "total_hidden_states = []\n",
    "# 메모리 셀 동작\n",
    "for input_t in inputs: # 각 시점에 따라서 입력값이 입력됨.\n",
    "    output_t = np.tanh(np.dot(Wx,input_t) + np.dot(Wh,hidden_state_t) + b) # Wx * Xt + Wh * Ht-1 + b(bias)\n",
    "    total_hidden_states.append(list(output_t)) # 각 시점의 은닉 상태의 값을 계속해서 축적\n",
    "    print(np.shape(total_hidden_states)) # 각 시점 t별 메모리 셀의 출력의 크기는 (timestep, output_dim)\n",
    "    hidden_state_t = output_t\n",
    "total_hidden_states = np.stack(total_hidden_states, axis = 0) \n",
    "# 출력 시 값을 깔끔하게 해준다.\n",
    "print(total_hidden_states) # (timesteps, output_dim)의 크기. 이 경우 (10, 8)의 크기를 가지는 메모리 셀의 2D 텐서를 출력."
   ]
  },
  {
   "cell_type": "code",
   "execution_count": 7,
   "id": "dd4c65b7-b846-488d-8f36-db6bd3459256",
   "metadata": {},
   "outputs": [
    {
     "name": "stdout",
     "output_type": "stream",
     "text": [
      "torch.Size([1, 10, 8])\n",
      "torch.Size([1, 1, 8])\n"
     ]
    }
   ],
   "source": [
    "import torch\n",
    "import torch.nn as nn\n",
    "input_size = 5 # 입력의 크기\n",
    "hidden_size = 8 # 은닉 상태의 크기\n",
    "# (batch_size, time_steps, input_size)\n",
    "inputs = torch.Tensor(1, 10, 5)\n",
    "cell = nn.RNN(input_size, hidden_size, batch_first=True)\n",
    "outputs, _status = cell(inputs)\n",
    "print(outputs.shape) # 모든 time-step의 hidden_state\n",
    "print(_status.shape) # 최종 time-step의 hidden_state"
   ]
  },
  {
   "cell_type": "code",
   "execution_count": null,
   "id": "dd6502d3-666d-4892-a60a-b329525e13e6",
   "metadata": {},
   "outputs": [],
   "source": []
  }
 ],
 "metadata": {
  "kernelspec": {
   "display_name": "Python 3 (ipykernel)",
   "language": "python",
   "name": "python3"
  },
  "language_info": {
   "codemirror_mode": {
    "name": "ipython",
    "version": 3
   },
   "file_extension": ".py",
   "mimetype": "text/x-python",
   "name": "python",
   "nbconvert_exporter": "python",
   "pygments_lexer": "ipython3",
   "version": "3.8.12"
  }
 },
 "nbformat": 4,
 "nbformat_minor": 5
}
