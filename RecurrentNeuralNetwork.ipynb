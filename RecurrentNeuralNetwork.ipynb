{
 "cells": [
  {
   "cell_type": "code",
   "execution_count": 1,
   "id": "dc21d07a-06cf-4983-a031-b775d4bfa4cf",
   "metadata": {},
   "outputs": [],
   "source": [
    "# RNN(Recurrent Neural Network) => Sequence model\n",
    "# activate function in hidden layer go to output layer & next input layer -> this cell remember previous output. it is called RNN cell or memory cell.\n",
    "# h(t) = tanh(W(x)X(t) + W(h)h(t-1) + b)\n",
    "# hidden_state_t = 0 # 초기 은닉 상태를 0(벡터)로 초기화\n",
    "# for input_t in input_length: # 각 시점마다 입력을 받는다.\n",
    "#     output_t = tanh(input_t, hidden_state_t) # 각 시점에 대해서 입력과 은닉 상태를 가지고 연산\n",
    "#     hidden_state_t = output_t # 계산 결과는 현재 시점의 은닉 상태가 된다."
   ]
  },
  {
   "cell_type": "code",
   "execution_count": 2,
   "id": "d31dad92-4913-4a7e-9627-e6f52f4acbcd",
   "metadata": {},
   "outputs": [
    {
     "name": "stdout",
     "output_type": "stream",
     "text": [
      "[0. 0. 0. 0. 0. 0. 0. 0.]\n",
      "(8, 4)\n",
      "(8, 8)\n",
      "(8,)\n",
      "(1, 8)\n",
      "(2, 8)\n",
      "(3, 8)\n",
      "(4, 8)\n",
      "(5, 8)\n",
      "(6, 8)\n",
      "(7, 8)\n",
      "(8, 8)\n",
      "(9, 8)\n",
      "(10, 8)\n",
      "[[0.9392692  0.97475406 0.87226137 0.99515721 0.99755398 0.98238793\n",
      "  0.93407011 0.98952307]\n",
      " [0.99986275 0.99963053 0.99967212 0.99999441 0.99997642 0.99998119\n",
      "  0.99991174 0.99997828]\n",
      " [0.99993387 0.99989369 0.999803   0.99999844 0.999997   0.99999263\n",
      "  0.99997034 0.99999624]\n",
      " [0.99995277 0.99987259 0.99981249 0.99999857 0.99999616 0.99999437\n",
      "  0.99996743 0.99999556]\n",
      " [0.99988565 0.99996089 0.99981626 0.99999873 0.99999513 0.99998551\n",
      "  0.99997392 0.99999345]\n",
      " [0.99993943 0.99985154 0.99978688 0.99999813 0.99999364 0.99999246\n",
      "  0.99996302 0.99999326]\n",
      " [0.99991436 0.99990119 0.99974297 0.99999825 0.99999243 0.99998979\n",
      "  0.99997466 0.99999113]\n",
      " [0.99996537 0.99995456 0.9998889  0.9999993  0.99999529 0.99999463\n",
      "  0.9999623  0.99999447]\n",
      " [0.99994371 0.99992066 0.99978669 0.99999887 0.99999696 0.99999392\n",
      "  0.99998042 0.99999584]\n",
      " [0.99989779 0.99988129 0.99968731 0.99999791 0.99999314 0.999989\n",
      "  0.99997845 0.99999166]]\n"
     ]
    }
   ],
   "source": [
    "import numpy as np\n",
    "timesteps = 10 # 시점의 수. NLP에서는 보통 문장의 길이가 된다.\n",
    "input_size = 4 # 입력의 차원. NLP에서는 보통 단어 벡터의 차원이 된다.\n",
    "hidden_size = 8 # 은닉 상태의 크기. 메모리 셀의 용량이다.\n",
    "inputs = np.random.random((timesteps, input_size)) # 입력에 해당되는 2D 텐서\n",
    "hidden_state_t = np.zeros((hidden_size,)) # 초기 은닉 상태는 0(벡터)로 초기화\n",
    "# 은닉 상태의 크기 hidden_size로 은닉 상태를 만듬.\n",
    "print(hidden_state_t) # 8의 크기를 가지는 은닉 상태. 현재는 초기 은닉 상태로 모든 차원이 0의 값을 가짐.\n",
    "Wx = np.random.random((hidden_size, input_size))  # (8, 4)크기의 2D 텐서 생성. 입력에 대한 가중치.\n",
    "Wh = np.random.random((hidden_size, hidden_size)) # (8, 8)크기의 2D 텐서 생성. 은닉 상태에 대한 가중치.\n",
    "b = np.random.random((hidden_size,)) # (8,)크기의 1D 텐서 생성. 이 값은 편향(bias).\n",
    "print(np.shape(Wx))\n",
    "print(np.shape(Wh))\n",
    "print(np.shape(b))\n",
    "total_hidden_states = []\n",
    "# 메모리 셀 동작\n",
    "for input_t in inputs: # 각 시점에 따라서 입력값이 입력됨.\n",
    "    output_t = np.tanh(np.dot(Wx,input_t) + np.dot(Wh,hidden_state_t) + b) # Wx * Xt + Wh * Ht-1 + b(bias)\n",
    "    total_hidden_states.append(list(output_t)) # 각 시점의 은닉 상태의 값을 계속해서 축적\n",
    "    print(np.shape(total_hidden_states)) # 각 시점 t별 메모리 셀의 출력의 크기는 (timestep, output_dim)\n",
    "    hidden_state_t = output_t\n",
    "total_hidden_states = np.stack(total_hidden_states, axis = 0) \n",
    "# 출력 시 값을 깔끔하게 해준다.\n",
    "print(total_hidden_states) # (timesteps, output_dim)의 크기. 이 경우 (10, 8)의 크기를 가지는 메모리 셀의 2D 텐서를 출력."
   ]
  },
  {
   "cell_type": "code",
   "execution_count": 3,
   "id": "dd4c65b7-b846-488d-8f36-db6bd3459256",
   "metadata": {},
   "outputs": [
    {
     "name": "stdout",
     "output_type": "stream",
     "text": [
      "torch.Size([1, 10, 8])\n",
      "torch.Size([1, 1, 8])\n"
     ]
    }
   ],
   "source": [
    "# using pytorch nn for RNN\n",
    "import torch\n",
    "import torch.nn as nn\n",
    "input_size = 5 # 입력의 크기\n",
    "hidden_size = 8 # 은닉 상태의 크기\n",
    "# (batch_size, time_steps, input_size)\n",
    "inputs = torch.Tensor(1, 10, 5)\n",
    "# RNN 셀에 입력텐서를 넣어 출력 확인\n",
    "cell = nn.RNN(input_size, hidden_size, batch_first=True)\n",
    "outputs, _status = cell(inputs)\n",
    "print(outputs.shape) # 모든 time-step의 hidden_state\n",
    "print(_status.shape) # 최종 time-step의 hidden_state"
   ]
  },
  {
   "cell_type": "code",
   "execution_count": 4,
   "id": "dd6502d3-666d-4892-a60a-b329525e13e6",
   "metadata": {},
   "outputs": [
    {
     "name": "stdout",
     "output_type": "stream",
     "text": [
      "torch.Size([1, 10, 8])\n",
      "torch.Size([1, 1, 8])\n"
     ]
    }
   ],
   "source": [
    "# Deep Recurrent Neural Network\n",
    "# (batch_size, time_steps, input_size)\n",
    "inputs = torch.Tensor(1, 10, 5)\n",
    "cell = nn.RNN(input_size = 5, hidden_size = 8, num_layers = 2, batch_first=True)\n",
    "print(outputs.shape) # 모든 time-step의 hidden_state\n",
    "print(_status.shape) # (층의 개수, 배치 크기, 은닉 상태의 크기)"
   ]
  },
  {
   "cell_type": "code",
   "execution_count": 5,
   "id": "0dcc4831-4eb0-4490-a4e7-83a3c1838db4",
   "metadata": {},
   "outputs": [
    {
     "name": "stdout",
     "output_type": "stream",
     "text": [
      "torch.Size([1, 10, 16])\n",
      "torch.Size([4, 1, 8])\n"
     ]
    }
   ],
   "source": [
    "# Bidirectional Recurrent Neural Network\n",
    "# (batch_size, time_steps, input_size)\n",
    "inputs = torch.Tensor(1, 10, 5)\n",
    "cell = nn.RNN(input_size = 5, hidden_size = 8, num_layers = 2, batch_first=True, bidirectional = True)\n",
    "outputs, _status = cell(inputs)\n",
    "print(outputs.shape) # (배치 크기, 시퀀스 길이, 은닉 상태의 크기 x 2)\n",
    "print(_status.shape) # (층의 개수 x 2, 배치 크기, 은닉 상태의 크기)"
   ]
  },
  {
   "cell_type": "code",
   "execution_count": null,
   "id": "5f790cb9-0e72-4f8c-82bc-d111bdb2c6fa",
   "metadata": {},
   "outputs": [],
   "source": [
    "# LSTM(Long Short-Term Memory)\n",
    "# RNN limit -> RNN depends on prev calculation. so RNN is good for short sequence, RNN is bad for long sequence.(The problem of Long-term Dependencies)\n",
    "# LSTM is added input gate, forget gate, output gate inside memory cell in hidden layer, and then remove no-need memory, save need memory.\n",
    "# hidden state calculation is more complex and added the value of cell state.\n",
    "# configure => input gate, remove gate, cell state, output gate, hidden state.\n",
    "# nn.RNN(input_dim, hidden_size, batch_first=True) => nn.LSTM(input_dim, hidden_size, batch_first=True)"
   ]
  }
 ],
 "metadata": {
  "kernelspec": {
   "display_name": "Python 3 (ipykernel)",
   "language": "python",
   "name": "python3"
  },
  "language_info": {
   "codemirror_mode": {
    "name": "ipython",
    "version": 3
   },
   "file_extension": ".py",
   "mimetype": "text/x-python",
   "name": "python",
   "nbconvert_exporter": "python",
   "pygments_lexer": "ipython3",
   "version": "3.8.12"
  }
 },
 "nbformat": 4,
 "nbformat_minor": 5
}
