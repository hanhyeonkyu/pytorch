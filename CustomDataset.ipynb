{
 "cells": [
  {
   "cell_type": "code",
   "execution_count": 1,
   "id": "1d97dfaa-216b-4973-809a-ffb1c0840ef2",
   "metadata": {},
   "outputs": [],
   "source": [
    "import torch\n",
    "import torch.nn as nn\n",
    "import torch.nn.functional as F\n",
    "import torch.optim as optim\n",
    "from torch.utils.data import TensorDataset\n",
    "from torch.utils.data import DataLoader\n",
    "from torch.utils.data import Dataset"
   ]
  },
  {
   "cell_type": "code",
   "execution_count": 2,
   "id": "8b1f0a13-7e03-4e79-9268-3da32801b3c9",
   "metadata": {},
   "outputs": [],
   "source": [
    "# CustomDataset class\n",
    "class CustomDataset(Dataset): \n",
    "    # preprocessing dataset\n",
    "    def __init__(self):\n",
    "        self.x_data = [[73, 80, 75],\n",
    "                       [93, 88, 93],\n",
    "                       [89, 91, 90],\n",
    "                       [96, 98, 100],\n",
    "                       [73, 66, 70]]\n",
    "        self.y_data = [[152], [185], [180], [196], [142]]\n",
    "    # data length, sample length\n",
    "    def __len__(self): \n",
    "        return len(self.x_data)\n",
    "    # get sample\n",
    "    def __getitem__(self, idx): \n",
    "        x = torch.FloatTensor(self.x_data[idx])\n",
    "        y = torch.FloatTensor(self.y_data[idx])\n",
    "        return x, y"
   ]
  },
  {
   "cell_type": "code",
   "execution_count": 10,
   "id": "b2513645-248a-456c-87da-7de243bbe20e",
   "metadata": {},
   "outputs": [
    {
     "name": "stdout",
     "output_type": "stream",
     "text": [
      "Epoch    0/1000 Batch 1/3 Cost: 22978.843750\n",
      "Epoch    0/1000 Batch 2/3 Cost: 8942.791016\n",
      "Epoch    0/1000 Batch 3/3 Cost: 5079.601562\n",
      "Epoch  200/1000 Batch 1/3 Cost: 1.234194\n",
      "Epoch  200/1000 Batch 2/3 Cost: 1.477790\n",
      "Epoch  200/1000 Batch 3/3 Cost: 0.710627\n",
      "Epoch  400/1000 Batch 1/3 Cost: 1.601989\n",
      "Epoch  400/1000 Batch 2/3 Cost: 0.592502\n",
      "Epoch  400/1000 Batch 3/3 Cost: 1.765700\n",
      "Epoch  600/1000 Batch 1/3 Cost: 1.536342\n",
      "Epoch  600/1000 Batch 2/3 Cost: 0.668007\n",
      "Epoch  600/1000 Batch 3/3 Cost: 1.449346\n",
      "Epoch  800/1000 Batch 1/3 Cost: 0.507030\n",
      "Epoch  800/1000 Batch 2/3 Cost: 1.245567\n",
      "Epoch  800/1000 Batch 3/3 Cost: 1.330148\n",
      "Epoch 1000/1000 Batch 1/3 Cost: 0.857844\n",
      "Epoch 1000/1000 Batch 2/3 Cost: 0.491107\n",
      "Epoch 1000/1000 Batch 3/3 Cost: 1.774267\n",
      "[Parameter containing:\n",
      "tensor([[0.6821, 0.5170, 0.8102]], requires_grad=True), Parameter containing:\n",
      "tensor([0.2345], requires_grad=True)]\n",
      "input 73, 80, 75 predict : tensor([[152.1513]], grad_fn=<AddmmBackward0>)\n"
     ]
    }
   ],
   "source": [
    "# get CustomDataset class\n",
    "dataset = CustomDataset()\n",
    "# data load with dataloader\n",
    "dataloader = DataLoader(dataset, batch_size=2, shuffle=True)\n",
    "# optimizer\n",
    "model = nn.Linear(3,1)\n",
    "optimizer = torch.optim.SGD(model.parameters(), lr=5e-6) \n",
    "# training\n",
    "nb_epochs = 1000\n",
    "for epoch in range(nb_epochs + 1):\n",
    "    for batch_idx, samples in enumerate(dataloader):\n",
    "        # split x, y\n",
    "        x_train, y_train = samples\n",
    "        # hypothesis\n",
    "        prediction = model(x_train)\n",
    "        # cost function\n",
    "        cost = F.mse_loss(prediction, y_train)\n",
    "        # cost -> hypothesis update\n",
    "        optimizer.zero_grad()\n",
    "        cost.backward()\n",
    "        optimizer.step()\n",
    "        if epoch % 200 == 0:\n",
    "            print('Epoch {:4d}/{} Batch {}/{} Cost: {:.6f}'.format(\n",
    "                epoch, nb_epochs, batch_idx+1, len(dataloader),\n",
    "                cost.item()\n",
    "                ))\n",
    "# teset input [73, 80, 75]\n",
    "new_var =  torch.FloatTensor([[73, 80, 75]]) \n",
    "# input [73, 80, 75] return y\n",
    "pred_y = model(new_var) \n",
    "print(list(model.parameters()))\n",
    "print(\"input 73, 80, 75 predict :\", pred_y) "
   ]
  },
  {
   "cell_type": "code",
   "execution_count": null,
   "id": "b2fe0f62-4fee-487c-b477-fbe625ae7882",
   "metadata": {},
   "outputs": [],
   "source": []
  }
 ],
 "metadata": {
  "kernelspec": {
   "display_name": "Python 3 (ipykernel)",
   "language": "python",
   "name": "python3"
  },
  "language_info": {
   "codemirror_mode": {
    "name": "ipython",
    "version": 3
   },
   "file_extension": ".py",
   "mimetype": "text/x-python",
   "name": "python",
   "nbconvert_exporter": "python",
   "pygments_lexer": "ipython3",
   "version": "3.8.12"
  }
 },
 "nbformat": 4,
 "nbformat_minor": 5
}
