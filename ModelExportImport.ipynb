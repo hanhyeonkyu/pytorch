{
 "cells": [
  {
   "cell_type": "code",
   "execution_count": 1,
   "id": "15a66e04-c19c-4d4a-988a-f9ac6e548177",
   "metadata": {},
   "outputs": [],
   "source": [
    "import torch\n",
    "import torchvision.datasets as dsets\n",
    "import torchvision.transforms as transforms\n",
    "from torch.utils.data import DataLoader, TensorDataset\n",
    "import torch.nn as nn\n",
    "import matplotlib.pyplot as plt\n",
    "import random\n",
    "import numpy as np\n",
    "from torch import optim\n",
    "%matplotlib inline\n",
    "from sklearn.datasets import load_digits, fetch_openml\n",
    "from sklearn.model_selection import train_test_split"
   ]
  },
  {
   "cell_type": "code",
   "execution_count": 2,
   "id": "5632ff6d-ff24-47c4-9148-ca185a594dd2",
   "metadata": {},
   "outputs": [
    {
     "name": "stdout",
     "output_type": "stream",
     "text": [
      "0 0.6948983669281006\n",
      "1000 0.6931379437446594\n",
      "2000 0.6931172609329224\n",
      "3000 0.6930763721466064\n",
      "4000 0.6929103136062622\n",
      "5000 0.6820822358131409\n",
      "6000 0.0012996583245694637\n",
      "7000 0.0004833652637898922\n",
      "8000 0.00028891698457300663\n",
      "9000 0.00020375008170958608\n",
      "10000 0.00015648972475901246\n",
      "모델의 출력값(Hypothesis):  [[1.1173233e-04]\n",
      " [9.9982893e-01]\n",
      " [9.9984252e-01]\n",
      " [1.8558851e-04]]\n",
      "모델의 예측값(Predicted):  [[0.]\n",
      " [1.]\n",
      " [1.]\n",
      " [0.]]\n",
      "실제값(Y):  [[0.]\n",
      " [1.]\n",
      " [1.]\n",
      " [0.]]\n",
      "정확도(Accuracy):  1.0\n",
      "[Parameter containing:\n",
      "tensor([[-1.3060, -0.6899],\n",
      "        [-0.4717, -0.5716],\n",
      "        [ 0.8901,  0.9902],\n",
      "        [ 0.5510,  0.2572],\n",
      "        [ 4.2790, -2.4804],\n",
      "        [ 0.0921,  0.9000],\n",
      "        [-1.3781,  2.9243],\n",
      "        [ 5.3332,  5.3745],\n",
      "        [ 1.7332, -3.1540],\n",
      "        [ 1.3806,  1.4408]], requires_grad=True), Parameter containing:\n",
      "tensor([ 1.0597, -0.3195, -1.0387, -0.7083,  0.9477,  0.1631,  0.5985, -1.7860,\n",
      "        -0.8480, -2.0306], requires_grad=True), Parameter containing:\n",
      "tensor([[-0.0290,  0.0687, -0.1965,  0.1647, -0.6217,  0.1004, -0.1540,  0.4905,\n",
      "          0.2341, -0.3689],\n",
      "        [-0.5615, -0.2139,  0.4963,  0.4167,  0.4055, -0.1932,  0.3534, -0.9967,\n",
      "         -0.4602,  0.4969],\n",
      "        [ 0.6943, -0.0652, -0.4859,  0.0426, -0.8948,  0.0661, -0.8583,  1.5491,\n",
      "          0.9258, -0.5635],\n",
      "        [-0.9022, -0.7305,  0.7898,  0.2464,  2.5526,  0.5829,  1.4357, -3.8073,\n",
      "         -1.6038,  1.4956],\n",
      "        [ 0.2812, -0.0096, -0.4023, -0.4239, -0.9744,  0.2119, -0.7039,  1.1887,\n",
      "          0.5229, -0.5428],\n",
      "        [ 0.4520, -0.2912, -0.2338, -0.2094, -2.0086, -0.8867, -1.2227,  3.6764,\n",
      "          1.2196, -0.5600],\n",
      "        [-0.5342, -0.3940,  0.2084,  0.2801,  0.5785,  0.1113,  0.3195, -0.3821,\n",
      "         -0.1575,  0.2684],\n",
      "        [-0.5724, -0.4806,  0.5375,  0.2200,  1.4555,  0.3122,  0.4807, -2.0442,\n",
      "         -1.0978,  0.9407],\n",
      "        [ 1.0185,  0.2829, -0.7873, -0.1715, -2.1916, -0.3590, -1.1567,  2.9396,\n",
      "          1.3381, -1.3724],\n",
      "        [ 0.1991,  0.3280, -0.1062, -0.1201, -1.0618, -0.4071, -0.8857,  2.0616,\n",
      "          0.8449, -0.4382]], requires_grad=True), Parameter containing:\n",
      "tensor([-0.3375,  0.1910, -0.4031, -0.0768,  0.0859, -0.3123, -0.3247,  0.1564,\n",
      "         0.2460, -0.4000], requires_grad=True), Parameter containing:\n",
      "tensor([[-0.1323,  0.9122, -1.1051,  2.9138, -0.9152, -2.4082,  0.5147,  1.5018,\n",
      "         -2.1096, -1.2001],\n",
      "        [-0.0792, -0.2264,  0.4786, -0.5072, -0.0359,  0.3916, -0.1649, -0.4489,\n",
      "          0.2884,  0.1954],\n",
      "        [ 0.1614, -0.3468,  1.0233, -2.6826,  0.6254,  2.1938, -0.5122, -1.8627,\n",
      "          1.9025,  1.0221],\n",
      "        [ 0.3411, -0.2751,  0.3873, -1.0965,  0.4547,  1.2329, -0.1465, -0.7621,\n",
      "          1.0411,  0.4115],\n",
      "        [ 0.2288, -0.7744,  0.4003, -2.0862,  0.7273,  1.6577, -0.4832, -0.9021,\n",
      "          1.6657,  1.0583],\n",
      "        [-0.4261,  0.0841, -0.2723,  0.8974, -0.0726, -0.5775, -0.2271,  0.4463,\n",
      "         -0.9001, -0.3057],\n",
      "        [-0.1247,  0.2957, -0.3324,  0.5980,  0.0739, -0.3970, -0.3056,  0.0995,\n",
      "         -0.3524, -0.5922],\n",
      "        [-0.2986,  0.6372, -0.7524,  1.3365, -0.5517, -1.0836,  0.4830,  0.5433,\n",
      "         -1.0562, -0.4955],\n",
      "        [-0.3571,  0.4401, -0.5621,  1.0496, -0.5521, -0.5355,  0.3255,  0.5502,\n",
      "         -0.7906, -0.4087],\n",
      "        [-0.4335,  0.1546, -0.6641,  0.9401, -0.5730, -0.6154,  0.2585,  0.5814,\n",
      "         -1.0342, -0.5943]], requires_grad=True), Parameter containing:\n",
      "tensor([ 0.5481, -0.1546, -0.3167, -0.4496, -0.3631,  0.1719, -0.2005,  0.2142,\n",
      "        -0.0699,  0.4664], requires_grad=True), Parameter containing:\n",
      "tensor([[-5.5421,  0.9574,  5.2424,  2.3705,  3.8940, -1.3275, -0.8196, -2.3459,\n",
      "         -1.6602, -1.8444]], requires_grad=True), Parameter containing:\n",
      "tensor([-0.0896], requires_grad=True)]\n"
     ]
    }
   ],
   "source": [
    "# multi layer perceptron\n",
    "# Neural Network Overview -> input layer / hidden layer(sigmoid) / output layer(sigmoid)\n",
    "# forward propagation(input layer -> output layer) -> backward propagation step1(output layer -> input layer) -> backward propagation step2\n",
    "device = 'cuda' if torch.cuda.is_available() else 'cpu'\n",
    "torch.manual_seed(777)\n",
    "if device == 'cuda':\n",
    "    torch.cuda.manual_seed_all(777)\n",
    "# XOR probelm data\n",
    "X = torch.FloatTensor([[0, 0], [0, 1], [1, 0], [1, 1]]).to(device)\n",
    "Y = torch.FloatTensor([[0], [1], [1], [0]]).to(device)\n",
    "# three hidden layer & output layer\n",
    "model = nn.Sequential(\n",
    "    nn.Linear(2, 10, bias=True),\n",
    "    nn.Sigmoid(),\n",
    "    nn.Linear(10, 10, bias=True),\n",
    "    nn.Sigmoid(),\n",
    "    nn.Linear(10, 10, bias=True),\n",
    "    nn.Sigmoid(),\n",
    "    nn.Linear(10, 1, bias=True),\n",
    "    nn.Sigmoid()\n",
    "    ).to(device)\n",
    "# cost function & optimizer\n",
    "criterion = torch.nn.BCELoss().to(device)\n",
    "optimizer = torch.optim.SGD(model.parameters(), lr=1)\n",
    "for epoch in range(10001):\n",
    "    optimizer.zero_grad()\n",
    "    hypothesis = model(X)\n",
    "    cost = criterion(hypothesis, Y)\n",
    "    cost.backward()\n",
    "    optimizer.step()\n",
    "    if epoch % 1000 == 0:\n",
    "        print(epoch, cost.item())\n",
    "with torch.no_grad():\n",
    "    hypothesis = model(X)\n",
    "    predicted = (hypothesis > 0.5).float()\n",
    "    accuracy = (predicted == Y).float().mean()\n",
    "    print('모델의 출력값(Hypothesis): ', hypothesis.detach().cpu().numpy())\n",
    "    print('모델의 예측값(Predicted): ', predicted.detach().cpu().numpy())\n",
    "    print('실제값(Y): ', Y.cpu().numpy())\n",
    "    print('정확도(Accuracy): ', accuracy.item())\n",
    "print(list(model.parameters()))"
   ]
  },
  {
   "cell_type": "code",
   "execution_count": 3,
   "id": "07cc1689-9283-4622-9e6f-649844b75741",
   "metadata": {},
   "outputs": [],
   "source": [
    "# model save\n",
    "torch.save(model.state_dict(), 'test_model.pt')"
   ]
  },
  {
   "cell_type": "code",
   "execution_count": 4,
   "id": "61027f94-7b0b-40d0-a68e-3e4721efa4e5",
   "metadata": {},
   "outputs": [
    {
     "data": {
      "text/plain": [
       "Sequential(\n",
       "  (0): Linear(in_features=2, out_features=10, bias=True)\n",
       "  (1): Sigmoid()\n",
       "  (2): Linear(in_features=10, out_features=10, bias=True)\n",
       "  (3): Sigmoid()\n",
       "  (4): Linear(in_features=10, out_features=10, bias=True)\n",
       "  (5): Sigmoid()\n",
       "  (6): Linear(in_features=10, out_features=1, bias=True)\n",
       "  (7): Sigmoid()\n",
       ")"
      ]
     },
     "execution_count": 4,
     "metadata": {},
     "output_type": "execute_result"
    }
   ],
   "source": [
    "# definite model & load state dict\n",
    "ld_model = nn.Sequential(\n",
    "    nn.Linear(2, 10, bias=True),\n",
    "    nn.Sigmoid(),\n",
    "    nn.Linear(10, 10, bias=True),\n",
    "    nn.Sigmoid(),\n",
    "    nn.Linear(10, 10, bias=True),\n",
    "    nn.Sigmoid(),\n",
    "    nn.Linear(10, 1, bias=True),\n",
    "    nn.Sigmoid()\n",
    "    ).to(device)\n",
    "ld_model.load_state_dict(torch.load(\"test_model.pt\"))\n",
    "ld_model.eval()"
   ]
  },
  {
   "cell_type": "code",
   "execution_count": 5,
   "id": "a8aff283-fae5-49fb-afbd-51259884e1dc",
   "metadata": {},
   "outputs": [
    {
     "name": "stdout",
     "output_type": "stream",
     "text": [
      "[[0.]\n",
      " [1.]\n",
      " [0.]\n",
      " [0.]]\n"
     ]
    }
   ],
   "source": [
    "# check model\n",
    "x_test = torch.FloatTensor([[0, 0], [1, 0], [1, 1], [1, 1]]).to(device)\n",
    "ld_hypothesis = ld_model(x_test)\n",
    "ld_predicted = (ld_hypothesis > 0.5).float()\n",
    "print(ld_predicted.detach().cpu().numpy())"
   ]
  },
  {
   "cell_type": "code",
   "execution_count": null,
   "id": "ad0a0fd0-d3a2-4882-a68a-0bff6a4955c5",
   "metadata": {},
   "outputs": [],
   "source": []
  }
 ],
 "metadata": {
  "kernelspec": {
   "display_name": "Python 3 (ipykernel)",
   "language": "python",
   "name": "python3"
  },
  "language_info": {
   "codemirror_mode": {
    "name": "ipython",
    "version": 3
   },
   "file_extension": ".py",
   "mimetype": "text/x-python",
   "name": "python",
   "nbconvert_exporter": "python",
   "pygments_lexer": "ipython3",
   "version": "3.8.12"
  }
 },
 "nbformat": 4,
 "nbformat_minor": 5
}
