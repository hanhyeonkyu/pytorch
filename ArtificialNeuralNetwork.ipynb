{
 "cells": [
  {
   "cell_type": "code",
   "execution_count": 1,
   "id": "57e5b010-0345-4cf5-ada0-c3e83f3b7114",
   "metadata": {},
   "outputs": [],
   "source": [
    "# definition\n",
    "# machin learning > deep learning\n",
    "# training - validation(for tunning model) - testing\n",
    "# hyperparameter -> user can regulate it \n",
    "# parameter -> when model training, model change automatically.\n",
    "# regression(linear regression), classification(logistic regression) -> binary classification / multi-class classification\n",
    "# supervised learning(with answer) / unsupervised learning(with no answer) / reinforce learning\n",
    "# sample(one row), feature(variable x)\n",
    "# confusion matrix -> accuracy don't provide correct prediction, incorrect prediction. confusion matrix provide prediction in detail.\n",
    "# T(correct prediction) F(incorrect prediction) P(positive) F(negative)\n",
    "# precision -> positive case in all of response positive case -> TP / (TP + FP)\n",
    "# recall -> positive case in all of actual positive case -> TP / (TP + FN)\n",
    "# overfitting(overtraining) / underfitting(undertraining)"
   ]
  },
  {
   "cell_type": "code",
   "execution_count": 2,
   "id": "e56bc91e-3931-4f8a-83e5-7da95a75de92",
   "metadata": {},
   "outputs": [],
   "source": [
    "import torch\n",
    "import torchvision.datasets as dsets\n",
    "import torchvision.transforms as transforms\n",
    "from torch.utils.data import DataLoader, TensorDataset\n",
    "import torch.nn as nn\n",
    "import matplotlib.pyplot as plt\n",
    "import random\n",
    "import numpy as np\n",
    "from torch import optim\n",
    "%matplotlib inline\n",
    "from sklearn.datasets import load_digits, fetch_openml\n",
    "from sklearn.model_selection import train_test_split"
   ]
  },
  {
   "cell_type": "code",
   "execution_count": 3,
   "id": "aec97747-a176-4ed1-945e-67a4cd704b51",
   "metadata": {},
   "outputs": [
    {
     "name": "stdout",
     "output_type": "stream",
     "text": [
      "0 0.7273974418640137\n",
      "1000 0.6931471824645996\n",
      "2000 0.6931471824645996\n",
      "3000 0.6931471824645996\n",
      "4000 0.6931471824645996\n",
      "5000 0.6931471824645996\n",
      "6000 0.6931471824645996\n",
      "7000 0.6931471824645996\n",
      "8000 0.6931471824645996\n",
      "9000 0.6931471824645996\n",
      "10000 0.6931471824645996\n",
      "모델의 출력값(Hypothesis):  [[0.5]\n",
      " [0.5]\n",
      " [0.5]\n",
      " [0.5]]\n",
      "모델의 예측값(Predicted):  [[0.]\n",
      " [0.]\n",
      " [0.]\n",
      " [0.]]\n",
      "실제값(Y):  [[0.]\n",
      " [1.]\n",
      " [1.]\n",
      " [0.]]\n",
      "정확도(Accuracy):  0.5\n"
     ]
    }
   ],
   "source": [
    "# perceptron -> initial neutral network way. multiple input, one output algorithm\n",
    "# logistic regression(sigmoid) -> perception one activate function\n",
    "# single layer perceptron\n",
    "device = 'cuda' if torch.cuda.is_available() else 'cpu'\n",
    "torch.manual_seed(777)\n",
    "if device == 'cuda':\n",
    "    torch.cuda.manual_seed_all(777)\n",
    "# XOR data\n",
    "X = torch.FloatTensor([[0, 0], [0, 1], [1, 0], [1, 1]]).to(device)\n",
    "Y = torch.FloatTensor([[0], [1], [1], [0]]).to(device)\n",
    "linear = nn.Linear(2,1, bias=True)\n",
    "sigmoid = nn.Sigmoid()\n",
    "model = nn.Sequential(linear, sigmoid).to(device)\n",
    "criterion = torch.nn.BCELoss().to(device)\n",
    "optimizer = torch.optim.SGD(model.parameters(), lr=1)\n",
    "for step in range(10001):\n",
    "    optimizer.zero_grad()\n",
    "    hypothesis = model(X)\n",
    "    cost = criterion(hypothesis, Y)\n",
    "    cost.backward()\n",
    "    optimizer.step()\n",
    "    if step % 1000 == 0:\n",
    "        print(step, cost.item())\n",
    "# single layer perceptron can't resolve XOR problem.\n",
    "with torch.no_grad():\n",
    "    hypothesis = model(X)\n",
    "    predicted = (hypothesis > 0.5).float()\n",
    "    accuracy = (predicted == Y).float().mean()\n",
    "    print('모델의 출력값(Hypothesis): ', hypothesis.detach().cpu().numpy())\n",
    "    print('모델의 예측값(Predicted): ', predicted.detach().cpu().numpy())\n",
    "    print('실제값(Y): ', Y.cpu().numpy())\n",
    "    print('정확도(Accuracy): ', accuracy.item())"
   ]
  },
  {
   "cell_type": "code",
   "execution_count": 4,
   "id": "a126a5de-bfdd-426b-b842-767a449b03da",
   "metadata": {},
   "outputs": [
    {
     "name": "stdout",
     "output_type": "stream",
     "text": [
      "0 0.6948983669281006\n",
      "1000 0.6931379437446594\n",
      "2000 0.6931172609329224\n",
      "3000 0.6930763721466064\n",
      "4000 0.6929103136062622\n",
      "5000 0.6820822358131409\n",
      "6000 0.0012996583245694637\n",
      "7000 0.0004833652637898922\n",
      "8000 0.00028891698457300663\n",
      "9000 0.00020375008170958608\n",
      "10000 0.00015648972475901246\n",
      "모델의 출력값(Hypothesis):  [[1.1173233e-04]\n",
      " [9.9982893e-01]\n",
      " [9.9984252e-01]\n",
      " [1.8558851e-04]]\n",
      "모델의 예측값(Predicted):  [[0.]\n",
      " [1.]\n",
      " [1.]\n",
      " [0.]]\n",
      "실제값(Y):  [[0.]\n",
      " [1.]\n",
      " [1.]\n",
      " [0.]]\n",
      "정확도(Accuracy):  1.0\n",
      "[Parameter containing:\n",
      "tensor([[-1.3060, -0.6899],\n",
      "        [-0.4717, -0.5716],\n",
      "        [ 0.8901,  0.9902],\n",
      "        [ 0.5510,  0.2572],\n",
      "        [ 4.2790, -2.4804],\n",
      "        [ 0.0921,  0.9000],\n",
      "        [-1.3781,  2.9243],\n",
      "        [ 5.3332,  5.3745],\n",
      "        [ 1.7332, -3.1540],\n",
      "        [ 1.3806,  1.4408]], requires_grad=True), Parameter containing:\n",
      "tensor([ 1.0597, -0.3195, -1.0387, -0.7083,  0.9477,  0.1631,  0.5985, -1.7860,\n",
      "        -0.8480, -2.0306], requires_grad=True), Parameter containing:\n",
      "tensor([[-0.0290,  0.0687, -0.1965,  0.1647, -0.6217,  0.1004, -0.1540,  0.4905,\n",
      "          0.2341, -0.3689],\n",
      "        [-0.5615, -0.2139,  0.4963,  0.4167,  0.4055, -0.1932,  0.3534, -0.9967,\n",
      "         -0.4602,  0.4969],\n",
      "        [ 0.6943, -0.0652, -0.4859,  0.0426, -0.8948,  0.0661, -0.8583,  1.5491,\n",
      "          0.9258, -0.5635],\n",
      "        [-0.9022, -0.7305,  0.7898,  0.2464,  2.5526,  0.5829,  1.4357, -3.8073,\n",
      "         -1.6038,  1.4956],\n",
      "        [ 0.2812, -0.0096, -0.4023, -0.4239, -0.9744,  0.2119, -0.7039,  1.1887,\n",
      "          0.5229, -0.5428],\n",
      "        [ 0.4520, -0.2912, -0.2338, -0.2094, -2.0086, -0.8867, -1.2227,  3.6764,\n",
      "          1.2196, -0.5600],\n",
      "        [-0.5342, -0.3940,  0.2084,  0.2801,  0.5785,  0.1113,  0.3195, -0.3821,\n",
      "         -0.1575,  0.2684],\n",
      "        [-0.5724, -0.4806,  0.5375,  0.2200,  1.4555,  0.3122,  0.4807, -2.0442,\n",
      "         -1.0978,  0.9407],\n",
      "        [ 1.0185,  0.2829, -0.7873, -0.1715, -2.1916, -0.3590, -1.1567,  2.9396,\n",
      "          1.3381, -1.3724],\n",
      "        [ 0.1991,  0.3280, -0.1062, -0.1201, -1.0618, -0.4071, -0.8857,  2.0616,\n",
      "          0.8449, -0.4382]], requires_grad=True), Parameter containing:\n",
      "tensor([-0.3375,  0.1910, -0.4031, -0.0768,  0.0859, -0.3123, -0.3247,  0.1564,\n",
      "         0.2460, -0.4000], requires_grad=True), Parameter containing:\n",
      "tensor([[-0.1323,  0.9122, -1.1051,  2.9138, -0.9152, -2.4082,  0.5147,  1.5018,\n",
      "         -2.1096, -1.2001],\n",
      "        [-0.0792, -0.2264,  0.4786, -0.5072, -0.0359,  0.3916, -0.1649, -0.4489,\n",
      "          0.2884,  0.1954],\n",
      "        [ 0.1614, -0.3468,  1.0233, -2.6826,  0.6254,  2.1938, -0.5122, -1.8627,\n",
      "          1.9025,  1.0221],\n",
      "        [ 0.3411, -0.2751,  0.3873, -1.0965,  0.4547,  1.2329, -0.1465, -0.7621,\n",
      "          1.0411,  0.4115],\n",
      "        [ 0.2288, -0.7744,  0.4003, -2.0862,  0.7273,  1.6577, -0.4832, -0.9021,\n",
      "          1.6657,  1.0583],\n",
      "        [-0.4261,  0.0841, -0.2723,  0.8974, -0.0726, -0.5775, -0.2271,  0.4463,\n",
      "         -0.9001, -0.3057],\n",
      "        [-0.1247,  0.2957, -0.3324,  0.5980,  0.0739, -0.3970, -0.3056,  0.0995,\n",
      "         -0.3524, -0.5922],\n",
      "        [-0.2986,  0.6372, -0.7524,  1.3365, -0.5517, -1.0836,  0.4830,  0.5433,\n",
      "         -1.0562, -0.4955],\n",
      "        [-0.3571,  0.4401, -0.5621,  1.0496, -0.5521, -0.5355,  0.3255,  0.5502,\n",
      "         -0.7906, -0.4087],\n",
      "        [-0.4335,  0.1546, -0.6641,  0.9401, -0.5730, -0.6154,  0.2585,  0.5814,\n",
      "         -1.0342, -0.5943]], requires_grad=True), Parameter containing:\n",
      "tensor([ 0.5481, -0.1546, -0.3167, -0.4496, -0.3631,  0.1719, -0.2005,  0.2142,\n",
      "        -0.0699,  0.4664], requires_grad=True), Parameter containing:\n",
      "tensor([[-5.5421,  0.9574,  5.2424,  2.3705,  3.8940, -1.3275, -0.8196, -2.3459,\n",
      "         -1.6602, -1.8444]], requires_grad=True), Parameter containing:\n",
      "tensor([-0.0896], requires_grad=True)]\n"
     ]
    }
   ],
   "source": [
    "# multi layer perceptron\n",
    "# Neural Network Overview -> input layer / hidden layer(sigmoid) / output layer(sigmoid)\n",
    "# forward propagation(input layer -> output layer) -> backward propagation step1(output layer -> input layer) -> backward propagation step2\n",
    "device = 'cuda' if torch.cuda.is_available() else 'cpu'\n",
    "torch.manual_seed(777)\n",
    "if device == 'cuda':\n",
    "    torch.cuda.manual_seed_all(777)\n",
    "# XOR probelm data\n",
    "X = torch.FloatTensor([[0, 0], [0, 1], [1, 0], [1, 1]]).to(device)\n",
    "Y = torch.FloatTensor([[0], [1], [1], [0]]).to(device)\n",
    "# three hidden layer & output layer\n",
    "model = nn.Sequential(\n",
    "    nn.Linear(2, 10, bias=True),\n",
    "    nn.Sigmoid(),\n",
    "    nn.Linear(10, 10, bias=True),\n",
    "    nn.Sigmoid(),\n",
    "    nn.Linear(10, 10, bias=True),\n",
    "    nn.Sigmoid(),\n",
    "    nn.Linear(10, 1, bias=True),\n",
    "    nn.Sigmoid()\n",
    "    ).to(device)\n",
    "# cost function & optimizer\n",
    "criterion = torch.nn.BCELoss().to(device)\n",
    "optimizer = torch.optim.SGD(model.parameters(), lr=1)\n",
    "for epoch in range(10001):\n",
    "    optimizer.zero_grad()\n",
    "    hypothesis = model(X)\n",
    "    cost = criterion(hypothesis, Y)\n",
    "    cost.backward()\n",
    "    optimizer.step()\n",
    "    if epoch % 1000 == 0:\n",
    "        print(epoch, cost.item())\n",
    "with torch.no_grad():\n",
    "    hypothesis = model(X)\n",
    "    predicted = (hypothesis > 0.5).float()\n",
    "    accuracy = (predicted == Y).float().mean()\n",
    "    print('모델의 출력값(Hypothesis): ', hypothesis.detach().cpu().numpy())\n",
    "    print('모델의 예측값(Predicted): ', predicted.detach().cpu().numpy())\n",
    "    print('실제값(Y): ', Y.cpu().numpy())\n",
    "    print('정확도(Accuracy): ', accuracy.item())\n",
    "print(list(model.parameters()))"
   ]
  },
  {
   "cell_type": "code",
   "execution_count": 5,
   "id": "60985e22-1f5a-4d9c-8b65-efe143aac87c",
   "metadata": {},
   "outputs": [
    {
     "data": {
      "image/png": "[encoded data removed]",
      "text/plain": [
       "<Figure size 432x288 with 1 Axes>"
      ]
     },
     "metadata": {
      "needs_background": "light"
     },
     "output_type": "display_data"
    }
   ],
   "source": [
    "# Activation function -> sigmoid, softmax, ReLU, ..., Nonlinear function\n",
    "# sigmoid vanishing gradient -> when near 0 or 1, gradient is more near 0. then back propagation step, can not receive gradient will receive almost 0 gradient.\n",
    "# and then W parameter can not update. it is the problem when use sigmoid in hidden layer.\n",
    "def sigmoid(x):\n",
    "    return 1/(1+np.exp(-x))\n",
    "x = np.arange(-5.0, 5.0, 0.1)\n",
    "y = sigmoid(x)\n",
    "plt.plot(x, y)\n",
    "plt.plot([0,0], [1.0, 0.0], ':')\n",
    "plt.show()"
   ]
  },
  {
   "cell_type": "code",
   "execution_count": 6,
   "id": "6b50c427-98f3-4bd7-b070-1607ffd7ede9",
   "metadata": {},
   "outputs": [
    {
     "data": {
      "image/png": "[encoded data removed]",
      "text/plain": [
       "<Figure size 432x288 with 1 Axes>"
      ]
     },
     "metadata": {
      "needs_background": "light"
     },
     "output_type": "display_data"
    }
   ],
   "source": [
    "# Hyperbolic tangent function -> it have same problem like sigmoid function\n",
    "x = np.arange(-5.0, 5.0, 0.1)\n",
    "y = np.tanh(x)\n",
    "plt.plot(x, y)\n",
    "plt.plot([0,0], [1.0, -1.0], ':')\n",
    "plt.axhline(y=0, color='orange', linestyle='--')\n",
    "plt.show()"
   ]
  },
  {
   "cell_type": "code",
   "execution_count": 7,
   "id": "e7b29e00-af1d-4c17-a33a-5ad2baffd74a",
   "metadata": {},
   "outputs": [
    {
     "data": {
      "image/png": "[encoded data removed]",
      "text/plain": [
       "<Figure size 432x288 with 1 Axes>"
      ]
     },
     "metadata": {
      "needs_background": "light"
     },
     "output_type": "display_data"
    }
   ],
   "source": [
    "# ReLU function -> f(x) = max(0,x) -> negative is 0, positive is same value of input.\n",
    "# it is calculate fast. but negative gradient is 0. this problem is dying ReLU.\n",
    "def relu(x):\n",
    "    return np.maximum(0, x)\n",
    "x = np.arange(-5.0, 5.0, 0.1)\n",
    "y = relu(x)\n",
    "plt.plot(x, y)\n",
    "plt.plot([0,0], [5.0, 0.0], ':')\n",
    "plt.show()"
   ]
  },
  {
   "cell_type": "code",
   "execution_count": 8,
   "id": "7aa0a27b-b8d6-44c0-8c01-83703da07ec2",
   "metadata": {},
   "outputs": [
    {
     "data": {
      "image/png": "[encoded data removed]",
      "text/plain": [
       "<Figure size 432x288 with 1 Axes>"
      ]
     },
     "metadata": {
      "needs_background": "light"
     },
     "output_type": "display_data"
    }
   ],
   "source": [
    "# Leaky ReLU -> similar ReLU. but negative is very small value. f(x) = max(ax, x)\n",
    "a = 0.1\n",
    "def leaky_relu(x):\n",
    "    return np.maximum(a * x, x)\n",
    "x = np.arange(-5.0, 5.0, 0.1)\n",
    "y = leaky_relu(x)\n",
    "plt.plot(x, y)\n",
    "plt.plot([0,0], [5.0, 0.0], ':')\n",
    "plt.show()"
   ]
  },
  {
   "cell_type": "code",
   "execution_count": 9,
   "id": "0d17cd3a-6510-4444-8a09-845756e2d3a3",
   "metadata": {},
   "outputs": [
    {
     "data": {
      "image/png": "[encoded data removed]",
      "text/plain": [
       "<Figure size 432x288 with 1 Axes>"
      ]
     },
     "metadata": {
      "needs_background": "light"
     },
     "output_type": "display_data"
    }
   ],
   "source": [
    "# softmax function\n",
    "x = np.arange(-5.0, 5.0, 0.1)\n",
    "y = np.exp(x) / np.sum(np.exp(x))\n",
    "plt.plot(x, y)\n",
    "plt.show()"
   ]
  },
  {
   "cell_type": "code",
   "execution_count": 10,
   "id": "564a40e0-8429-4ec1-8de8-16fdb6e2e88f",
   "metadata": {},
   "outputs": [
    {
     "name": "stdout",
     "output_type": "stream",
     "text": [
      "[[ 0.  0.  5. 13.  9.  1.  0.  0.]\n",
      " [ 0.  0. 13. 15. 10. 15.  5.  0.]\n",
      " [ 0.  3. 15.  2.  0. 11.  8.  0.]\n",
      " [ 0.  4. 12.  0.  0.  8.  8.  0.]\n",
      " [ 0.  5.  8.  0.  0.  9.  8.  0.]\n",
      " [ 0.  4. 11.  0.  1. 12.  7.  0.]\n",
      " [ 0.  2. 14.  5. 10. 12.  0.  0.]\n",
      " [ 0.  0.  6. 13. 10.  0.  0.  0.]]\n",
      "0\n",
      "[ 0.  0.  5. 13.  9.  1.  0.  0.  0.  0. 13. 15. 10. 15.  5.  0.  0.  3.\n",
      " 15.  2.  0. 11.  8.  0.  0.  4. 12.  0.  0.  8.  8.  0.  0.  5.  8.  0.\n",
      "  0.  9.  8.  0.  0.  4. 11.  0.  1. 12.  7.  0.  0.  2. 14.  5. 10. 12.\n",
      "  0.  0.  0.  0.  6. 13. 10.  0.  0.  0.]\n",
      "전체 샘플의 수 : 1797\n"
     ]
    },
    {
     "data": {
      "image/png": "[encoded data removed]",
      "text/plain": [
       "<Figure size 432x288 with 5 Axes>"
      ]
     },
     "metadata": {
      "needs_background": "light"
     },
     "output_type": "display_data"
    }
   ],
   "source": [
    "# handwriting with multi layer perceptron\n",
    "# initialize\n",
    "digits = load_digits()\n",
    "print(digits.images[0])\n",
    "print(digits.target[0])\n",
    "print(digits.data[0])\n",
    "print('전체 샘플의 수 : {}'.format(len(digits.images)))\n",
    "images_and_labels = list(zip(digits.images, digits.target))\n",
    "for index, (image, label) in enumerate(images_and_labels[:5]):\n",
    "    plt.subplot(2, 5, index + 1)\n",
    "    plt.axis('off')\n",
    "    plt.imshow(image, cmap=plt.cm.gray_r, interpolation='nearest')\n",
    "    plt.title('sample: %i' % label)"
   ]
  },
  {
   "cell_type": "code",
   "execution_count": 11,
   "id": "e652ce5d-ddb7-4978-a8fd-f4a52da38c76",
   "metadata": {},
   "outputs": [
    {
     "name": "stdout",
     "output_type": "stream",
     "text": [
      "Epoch    0/100 Cost: 2.325919\n",
      "Epoch  100/100 Cost: 0.185178\n",
      "Epoch  200/100 Cost: 0.039380\n",
      "Epoch  300/100 Cost: 0.012111\n",
      "Epoch  400/100 Cost: 0.004902\n",
      "Epoch  500/100 Cost: 0.002539\n",
      "Epoch  600/100 Cost: 0.001539\n",
      "Epoch  700/100 Cost: 0.001031\n",
      "Epoch  800/100 Cost: 0.000737\n",
      "Epoch  900/100 Cost: 0.000552\n"
     ]
    },
    {
     "data": {
      "image/png": "[encoded data removed]",
      "text/plain": [
       "<Figure size 432x288 with 1 Axes>"
      ]
     },
     "metadata": {
      "needs_background": "light"
     },
     "output_type": "display_data"
    }
   ],
   "source": [
    "# assign X, Y\n",
    "X = digits.data\n",
    "Y = digits.target\n",
    "X = torch.tensor(X, dtype=torch.float32)\n",
    "Y = torch.tensor(Y, dtype=torch.int64)\n",
    "# model\n",
    "model = nn.Sequential(\n",
    "    nn.Linear(64, 32),\n",
    "    nn.ReLU(),\n",
    "    nn.Linear(32, 32),\n",
    "    nn.ReLU(),\n",
    "    nn.Linear(32, 16),\n",
    "    nn.ReLU(),\n",
    "    nn.Linear(16, 10)\n",
    ")\n",
    "# cost function\n",
    "loss_fn = nn.CrossEntropyLoss()\n",
    "optimizer = torch.optim.Adam(model.parameters())\n",
    "losses = []\n",
    "for epoch in range(1000):\n",
    "    optimizer.zero_grad()\n",
    "    y_pred = model(X)\n",
    "    loss = loss_fn(y_pred, Y)\n",
    "    loss.backward()\n",
    "    optimizer.step()\n",
    "    if epoch % 100 == 0:\n",
    "        print('Epoch {:4d}/{} Cost: {:.6f}'.format(\n",
    "                epoch, 100, loss.item()\n",
    "            ))\n",
    "    losses.append(loss.item())\n",
    "plt.plot(losses)\n",
    "plt.show()"
   ]
  },
  {
   "cell_type": "code",
   "execution_count": 12,
   "id": "d8ecbd3f-badd-489e-9a27-d9ec53c0de00",
   "metadata": {},
   "outputs": [],
   "source": [
    "# MNIST with multi layer perceptron\n",
    "# data import\n",
    "mnist = fetch_openml('mnist_784', version=1, cache=True)\n",
    "mnist.data = mnist.data.to_numpy()\n",
    "mnist.target = mnist.target.astype(np.int8)"
   ]
  },
  {
   "cell_type": "code",
   "execution_count": 13,
   "id": "1e653b12-9cfa-435e-b672-e1f579f8d1d9",
   "metadata": {},
   "outputs": [
    {
     "name": "stdout",
     "output_type": "stream",
     "text": [
      "5\n"
     ]
    },
    {
     "data": {
      "image/png": "[encoded data removed]",
      "text/plain": [
       "<Figure size 432x288 with 1 Axes>"
      ]
     },
     "metadata": {
      "needs_background": "light"
     },
     "output_type": "display_data"
    }
   ],
   "source": [
    "# input data\n",
    "X = mnist.data / 255\n",
    "y = mnist.target\n",
    "plt.imshow(X[0].reshape(28, 28), cmap='gray')\n",
    "print(y[0])\n",
    "# train test split\n",
    "X_train, X_test, y_train, y_test = train_test_split(X, y, test_size=1/7, random_state=0)\n",
    "\n",
    "X_train = torch.Tensor(X_train)\n",
    "X_test = torch.Tensor(X_test)\n",
    "y_train = torch.LongTensor(y_train)\n",
    "y_test = torch.LongTensor(y_test.values)\n",
    "\n",
    "ds_train = TensorDataset(X_train, y_train)\n",
    "ds_test = TensorDataset(X_test, y_test)\n",
    "\n",
    "loader_train = DataLoader(ds_train, batch_size=64, shuffle=True)\n",
    "loader_test = DataLoader(ds_test, batch_size=64, shuffle=False)\n",
    "# model\n",
    "model = nn.Sequential()\n",
    "model.add_module('fc1', nn.Linear(28 * 28 * 1, 100))\n",
    "model.add_module('relu1', nn.ReLU())\n",
    "model.add_module('fc2', nn.Linear(100, 100))\n",
    "model.add_module('relu2', nn.ReLU())\n",
    "model.add_module('fc3', nn.Linear(100, 10))\n",
    "# cost function & optimizer\n",
    "loss_fn = nn.CrossEntropyLoss()\n",
    "optimizer = torch.optim.Adam(model.parameters(), lr=0.01)\n",
    "# training\n",
    "def train(epoch):\n",
    "    model.train()\n",
    "    for data, targets in loader_train:\n",
    "        optimizer.zero_grad()\n",
    "        outputs = model(data)\n",
    "        loss = loss_fn(outputs, targets)\n",
    "        loss.backward()\n",
    "        optimizer.step()\n",
    "    print('epoch{} :완료'.format(epoch + 1))\n",
    "def test():\n",
    "    model.eval()\n",
    "    correct = 0\n",
    "    with torch.no_grad():\n",
    "        for data, targets in loader_test:\n",
    "            outputs = model(data)\n",
    "            _, predicted = torch.max(outputs.data, 1)\n",
    "            correct += predicted.eq(targets.data.view_as(predicted)).sum()\n",
    "    data_num = len(loader_test.dataset)\n",
    "    print('\\n테스트 데이터에서 예측 정확도: {}/{} ({:.0f}%)\\n'.format(correct, data_num, 100. * correct / data_num))"
   ]
  },
  {
   "cell_type": "code",
   "execution_count": 14,
   "id": "34a54dd6-c27d-4b8e-886f-c852e457628d",
   "metadata": {},
   "outputs": [
    {
     "name": "stdout",
     "output_type": "stream",
     "text": [
      "\n",
      "테스트 데이터에서 예측 정확도: 840/10000 (8%)\n",
      "\n",
      "epoch1 :완료\n",
      "epoch2 :완료\n",
      "epoch3 :완료\n",
      "\n",
      "테스트 데이터에서 예측 정확도: 9624/10000 (96%)\n",
      "\n",
      "tensor(2)\n",
      "이 이미지 데이터의 정답 레이블은 2입니다\n"
     ]
    },
    {
     "data": {
      "image/png": "[encoded data removed]",
      "text/plain": [
       "<Figure size 432x288 with 1 Axes>"
      ]
     },
     "metadata": {
      "needs_background": "light"
     },
     "output_type": "display_data"
    }
   ],
   "source": [
    "# test model\n",
    "# initinal accuracy\n",
    "test()\n",
    "# training\n",
    "for epoch in range(3):\n",
    "    train(epoch)\n",
    "# after accuracy\n",
    "test()\n",
    "index = 2018\n",
    "model.eval()\n",
    "data = X_test[index]\n",
    "output = model(data)\n",
    "_, predicted = torch.max(output.data, 0)\n",
    "print(predicted)\n",
    "X_test_show = (X_test[index]).numpy()\n",
    "plt.imshow(X_test_show.reshape(28, 28), cmap='gray')\n",
    "print(\"이 이미지 데이터의 정답 레이블은 {:.0f}입니다\".format(y_test[index]))"
   ]
  },
  {
   "cell_type": "code",
   "execution_count": null,
   "id": "7e94a831-15b4-45f2-a8b4-169f1e42da91",
   "metadata": {},
   "outputs": [],
   "source": [
    "# prevent overfitting way\n",
    "# 1. increase data\n",
    "# 2. decrease complexity of model\n",
    "# class Architecture1(nn.Module):\n",
    "#   def __init__(self, input_size, hidden_size, num_classes):\n",
    "#     super(Architecture1, self).__init__()\n",
    "#     self.fc1 = nn.Linear(input_size, hidden_size)\n",
    "#     self.relu = nn.ReLU()\n",
    "#     self.fc2 = nn.Linear(hidden_size, hidden_size)\n",
    "#     self.relu = nnReLU()\n",
    "#     self.fc3 = nn.Linear(hidden_size, num_classes)\n",
    "\n",
    "#   def forward(self, x):\n",
    "#     out = self.fc1(x)\n",
    "#     out = self.relu(out)\n",
    "#     out = self.fc2(out)\n",
    "#     out = self.relu(out)\n",
    "#     out = self.fc3(out)\n",
    "#     return out\n",
    "# if upper class have overfitting, you should try decrease complexity of model like below.\n",
    "class Architecture1(nn.Module):\n",
    "  def __init__(self, input_size, hidden_size, num_classes):\n",
    "    super(Architecture1, self).__init__()\n",
    "    self.fc1 = nn.Linear(input_size, hidden_size)\n",
    "    self.relu = nn.ReLU()\n",
    "    self.fc2 = nn.Linear(hidden_size, num_classes)\n",
    "\n",
    "  def forward(self, x):\n",
    "    out = self.fc1(x)\n",
    "    out = self.relu(out)\n",
    "    out = self.fc2(out)\n",
    "    return out\n",
    "# 3. apply regularization\n",
    "model = Architecture1(10, 20, 2)\n",
    "optimizer = torch.optim.Adam(model.parameters(), lr=1e-4, weight_decay=1e-5)\n",
    "# 4. dropout"
   ]
  },
  {
   "cell_type": "code",
   "execution_count": null,
   "id": "9479c1ef-cf25-44c3-8422-52d29790bf55",
   "metadata": {},
   "outputs": [],
   "source": []
  }
 ],
 "metadata": {
  "kernelspec": {
   "display_name": "Python 3 (ipykernel)",
   "language": "python",
   "name": "python3"
  },
  "language_info": {
   "codemirror_mode": {
    "name": "ipython",
    "version": 3
   },
   "file_extension": ".py",
   "mimetype": "text/x-python",
   "name": "python",
   "nbconvert_exporter": "python",
   "pygments_lexer": "ipython3",
   "version": "3.8.12"
  }
 },
 "nbformat": 4,
 "nbformat_minor": 5
}
