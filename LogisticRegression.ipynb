{
 "cells": [
  {
   "cell_type": "code",
   "execution_count": 2,
   "id": "5fc7bc8f-5db5-4dcf-8587-f69c3d0638fd",
   "metadata": {},
   "outputs": [],
   "source": [
    "import torch\n",
    "import torch.nn as nn\n",
    "import torch.nn.functional as F\n",
    "import torch.optim as optim\n",
    "from torch.utils.data import TensorDataset\n",
    "from torch.utils.data import DataLoader\n",
    "from torch.utils.data import Dataset\n",
    "%matplotlib inline\n",
    "import numpy as np\n",
    "import matplotlib.pyplot as plt"
   ]
  },
  {
   "cell_type": "code",
   "execution_count": 16,
   "id": "0c57a7e8-f9a4-483c-8e9e-cc7115589f4c",
   "metadata": {},
   "outputs": [
    {
     "data": {
      "image/png": "[encoded data removed]",
      "text/plain": [
       "<Figure size 432x288 with 1 Axes>"
      ]
     },
     "metadata": {
      "needs_background": "light"
     },
     "output_type": "display_data"
    }
   ],
   "source": [
    "# binary classification using by logistic regression\n",
    "# hypothesis -> h(x) = f(Wx+b)\n",
    "# output will be 0 ~ 1 inside through sigmoid function\n",
    "# f -> sigmoid function\n",
    "# np.exp -> natural constant\n",
    "def sigmoid(x):\n",
    "    return 1/(1+np.exp(-x))\n",
    "# array -> -5.0<= ~ < 5.0 range, increment 0.1\n",
    "# if w is increase, gradient increase\n",
    "# if b is increase, graph move back\n",
    "x = np.arange(-5.0, 5.0, 0.1)\n",
    "y1 = sigmoid(0.5*x)\n",
    "y2 = sigmoid(x)\n",
    "y3 = sigmoid(2*x)\n",
    "y4 = sigmoid(x+1)\n",
    "y5 = sigmoid(x-1)\n",
    "plt.plot(x, y, 'g')\n",
    "# w: 1, b: 0\n",
    "plt.plot(x, y1, 'r', linestyle= '--')\n",
    "plt.plot(x, y2, 'g')\n",
    "plt.plot(x, y3, 'b', linestyle= '--')\n",
    "plt.plot(x, y4, 'c', linestyle= '--')\n",
    "plt.plot(x, y5, 'm', linestyle= '--')\n",
    "plt.plot([0,0], [1.0, 0.0], ':')\n",
    "plt.title('sigmoid function')\n",
    "plt.show()"
   ]
  },
  {
   "cell_type": "code",
   "execution_count": 21,
   "id": "e216228b-da87-4738-9ff4-d856368cb922",
   "metadata": {},
   "outputs": [
    {
     "data": {
      "text/plain": [
       "tensor(0.6931, grad_fn=<BinaryCrossEntropyBackward0>)"
      ]
     },
     "execution_count": 21,
     "metadata": {},
     "output_type": "execute_result"
    }
   ],
   "source": [
    "# logistic regresion study\n",
    "# if restart, get same result. random seed set\n",
    "torch.manual_seed(1)\n",
    "# train data\n",
    "x_data = [[1,2], [2,3], [3,1], [4,3], [5,3], [6,2]]\n",
    "y_data = [[0], [0], [0], [1], [1], [1]]\n",
    "x_train = torch.FloatTensor(x_data)\n",
    "y_train = torch.FloatTensor(y_data)\n",
    "W = torch.zeros((2,1), requires_grad=True)\n",
    "b = torch.zeros(1, requires_grad=True)\n",
    "# hypothesis\n",
    "# hypothesis = 1 / (1 + torch.exp(-(x_train.matmul(W) + b)))\n",
    "hypothesis = torch.sigmoid(x_train.matmul(W) + b)\n",
    "# one element get error mathematical expression\n",
    "# -(y_train[0] * torch.log(hypothesis[0]) + (1 - y_train[0]) * torch.log(1 - hypothesis[0]))\n",
    "losses = -(y_train * torch.log(hypothesis) + (1 - y_train) * torch.log(1 - hypothesis))\n",
    "# cost -> error mean\n",
    "# cost = losses.mean()\n",
    "cost = F.binary_cross_entropy(hypothesis, y_train)"
   ]
  },
  {
   "cell_type": "code",
   "execution_count": 32,
   "id": "61b1920a-af97-4776-b87b-c59b904cb53f",
   "metadata": {},
   "outputs": [
    {
     "name": "stdout",
     "output_type": "stream",
     "text": [
      "Epoch    0/30000 Cost: 0.69314718246459960937500000000000000000000000000000000000\n",
      "Epoch 3000/30000 Cost: 0.00696457037702202796936035156250000000000000000000000000\n",
      "Epoch 6000/30000 Cost: 0.00353240850381553173065185546875000000000000000000000000\n",
      "Epoch 9000/30000 Cost: 0.00236646085977554321289062500000000000000000000000000000\n",
      "Epoch 12000/30000 Cost: 0.00177919550333172082901000976562500000000000000000000000\n",
      "Epoch 15000/30000 Cost: 0.00142544473055750131607055664062500000000000000000000000\n",
      "Epoch 18000/30000 Cost: 0.00118904106784611940383911132812500000000000000000000000\n",
      "Epoch 21000/30000 Cost: 0.00101991079282015562057495117187500000000000000000000000\n",
      "Epoch 24000/30000 Cost: 0.00089288462186232209205627441406250000000000000000000000\n",
      "Epoch 27000/30000 Cost: 0.00079400971299037337303161621093750000000000000000000000\n",
      "Epoch 30000/30000 Cost: 0.00071483250940218567848205566406250000000000000000000000\n",
      "tensor([[6.9511e-08],\n",
      "        [1.1953e-03],\n",
      "        [1.3963e-03],\n",
      "        [9.9831e-01],\n",
      "        [1.0000e+00],\n",
      "        [1.0000e+00]], grad_fn=<SigmoidBackward0>)\n",
      "tensor([[False],\n",
      "        [False],\n",
      "        [False],\n",
      "        [ True],\n",
      "        [ True],\n",
      "        [ True]])\n",
      "tensor([[6.5543],\n",
      "        [3.1993]], requires_grad=True) tensor([-29.4347], requires_grad=True)\n"
     ]
    }
   ],
   "source": [
    "# logistic regression\n",
    "# if restart, get same result. random seed set\n",
    "torch.manual_seed(1)\n",
    "# train data\n",
    "x_data = [[1,2], [2,3], [3,1], [4,3], [5,3], [6,2]]\n",
    "y_data = [[0], [0], [0], [1], [1], [1]]\n",
    "x_train = torch.FloatTensor(x_data)\n",
    "y_train = torch.FloatTensor(y_data)\n",
    "# set W, b\n",
    "W = torch.zeros((2,1), requires_grad=True)\n",
    "b = torch.zeros(1, requires_grad=True)\n",
    "# optimizer\n",
    "optimizer = optim.SGD([W,b], lr=1)\n",
    "# training\n",
    "nb_epochs = 30000\n",
    "for epoch in range(nb_epochs + 1):\n",
    "    # hypothesis\n",
    "    hypothesis = torch.sigmoid(x_train.matmul(W) + b)\n",
    "    # cost function\n",
    "    cost = -(y_train * torch.log(hypothesis) + (1 - y_train) * torch.log(1 - hypothesis)).mean()\n",
    "    # cost -> hypothesis update\n",
    "    optimizer.zero_grad()\n",
    "    cost.backward()\n",
    "    optimizer.step()\n",
    "    # print log\n",
    "    if epoch % 3000 == 0:\n",
    "        print('Epoch {:4d}/{} Cost: {:.56f}'.format(epoch, nb_epochs, cost.item()))\n",
    "result = torch.sigmoid(x_train.matmul(W)+ b)\n",
    "print(result)\n",
    "print(result >= torch.FloatTensor([0.5]))\n",
    "print(W, b)"
   ]
  },
  {
   "cell_type": "code",
   "execution_count": null,
   "id": "feb8b92a-b241-4205-83e3-6c1680298a1e",
   "metadata": {},
   "outputs": [],
   "source": []
  }
 ],
 "metadata": {
  "kernelspec": {
   "display_name": "Python 3 (ipykernel)",
   "language": "python",
   "name": "python3"
  },
  "language_info": {
   "codemirror_mode": {
    "name": "ipython",
    "version": 3
   },
   "file_extension": ".py",
   "mimetype": "text/x-python",
   "name": "python",
   "nbconvert_exporter": "python",
   "pygments_lexer": "ipython3",
   "version": "3.8.12"
  }
 },
 "nbformat": 4,
 "nbformat_minor": 5
}
