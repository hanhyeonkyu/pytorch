{
 "cells": [
  {
   "cell_type": "code",
   "execution_count": 1,
   "id": "5b7e471c-4a08-4837-a5c3-2c30d9142f87",
   "metadata": {},
   "outputs": [],
   "source": [
    "import torch"
   ]
  },
  {
   "cell_type": "code",
   "execution_count": 2,
   "id": "1e729437-90e8-44ab-869d-e0d2906c8328",
   "metadata": {},
   "outputs": [
    {
     "name": "stdout",
     "output_type": "stream",
     "text": [
      "tensor([0., 1., 2., 3., 4., 5., 6.])\n"
     ]
    }
   ],
   "source": [
    "t = torch.FloatTensor([0., 1., 2., 3., 4., 5., 6.])\n",
    "print(t)"
   ]
  },
  {
   "cell_type": "code",
   "execution_count": 12,
   "id": "b3d7ea53-91e1-4f74-9266-b3ca7b1eb8ab",
   "metadata": {},
   "outputs": [
    {
     "name": "stdout",
     "output_type": "stream",
     "text": [
      "Shape of Matrix 1:  torch.Size([2, 2])\n",
      "Shape of Matrix 2:  torch.Size([2, 1])\n",
      "tensor([[1., 2.],\n",
      "        [6., 8.]])\n",
      "tensor([[1., 2.],\n",
      "        [6., 8.]])\n",
      "tensor([[ 5.],\n",
      "        [11.]])\n",
      "tensor(2.5000)\n",
      "tensor([2., 3.])\n",
      "tensor([1.5000, 3.5000])\n"
     ]
    }
   ],
   "source": [
    "m1 = torch.FloatTensor([[1, 2], [3, 4]])\n",
    "m2 = torch.FloatTensor([[1], [2]])\n",
    "print('Shape of Matrix 1: ', m1.shape) # 2 x 2\n",
    "print('Shape of Matrix 2: ', m2.shape) # 2 x 1\n",
    "print(m1 * m2) # 2 x 2\n",
    "print(m1.mul(m2))\n",
    "print(m1.matmul(m2)) # 2 x 1\n",
    "print(m1.mean())\n",
    "print(m1.mean(dim=0))\n",
    "print(m1.mean(dim=1))"
   ]
  },
  {
   "cell_type": "code",
   "execution_count": 24,
   "id": "7af8f542-8a7c-43c2-b335-93a18911bbef",
   "metadata": {},
   "outputs": [
    {
     "name": "stdout",
     "output_type": "stream",
     "text": [
      "torch.Size([2, 2, 3])\n",
      "tensor([[ 0.,  1.,  2.],\n",
      "        [ 3.,  4.,  5.],\n",
      "        [ 6.,  7.,  8.],\n",
      "        [ 9., 10., 11.]])\n",
      "tensor([[[ 0.,  1.,  2.]],\n",
      "\n",
      "        [[ 3.,  4.,  5.]],\n",
      "\n",
      "        [[ 6.,  7.,  8.]],\n",
      "\n",
      "        [[ 9., 10., 11.]]])\n"
     ]
    }
   ],
   "source": [
    "ft = torch.FloatTensor([[[0, 1, 2],\n",
    "               [3, 4, 5]],\n",
    "              [[6, 7, 8],\n",
    "               [9, 10, 11]]])\n",
    "print(ft.shape)\n",
    "print(ft.view([-1,3]))\n",
    "print(ft.view([-1,1, 3]))"
   ]
  },
  {
   "cell_type": "code",
   "execution_count": 40,
   "id": "46f636f7-a6aa-4ead-b427-8cf73a49e789",
   "metadata": {},
   "outputs": [
    {
     "name": "stdout",
     "output_type": "stream",
     "text": [
      "torch.Size([3, 1])\n",
      "torch.Size([3])\n",
      "torch.Size([3, 1, 1])\n"
     ]
    }
   ],
   "source": [
    "ft = torch.FloatTensor([[0], [1], [2]])\n",
    "print(ft.shape)\n",
    "print(ft.squeeze().shape)\n",
    "print(ft.unsqueeze(-1).shape)"
   ]
  },
  {
   "cell_type": "code",
   "execution_count": 43,
   "id": "4b77459b-815f-45b0-aacc-4ad492463ef1",
   "metadata": {},
   "outputs": [
    {
     "name": "stdout",
     "output_type": "stream",
     "text": [
      "tensor([1, 2, 3, 4])\n",
      "tensor([1., 2., 3., 4.])\n",
      "tensor([1, 2, 3, 4])\n"
     ]
    }
   ],
   "source": [
    "lt = torch.LongTensor([1, 2, 3, 4])\n",
    "print(lt)\n",
    "print(lt.float())\n",
    "print(lt.long())"
   ]
  },
  {
   "cell_type": "code",
   "execution_count": 48,
   "id": "0a0d4d0c-0e16-41cd-8503-fde7f6e7a1f5",
   "metadata": {},
   "outputs": [
    {
     "name": "stdout",
     "output_type": "stream",
     "text": [
      "tensor([[1., 2.],\n",
      "        [3., 4.],\n",
      "        [5., 6.],\n",
      "        [7., 8.]])\n"
     ]
    }
   ],
   "source": [
    "x = torch.FloatTensor([[1, 2], [3, 4]])\n",
    "y = torch.FloatTensor([[5, 6], [7, 8]])\n",
    "print(torch.cat([x,y], dim=0))"
   ]
  },
  {
   "cell_type": "code",
   "execution_count": 53,
   "id": "574d8eff-dd4f-4a90-81ce-b9610fff82f8",
   "metadata": {},
   "outputs": [
    {
     "name": "stdout",
     "output_type": "stream",
     "text": [
      "tensor([[1., 4.],\n",
      "        [2., 5.],\n",
      "        [3., 6.]])\n",
      "tensor([1., 1.])\n",
      "tensor([0., 0.])\n"
     ]
    }
   ],
   "source": [
    "x = torch.FloatTensor([1, 4])\n",
    "y = torch.FloatTensor([2, 5])\n",
    "z = torch.FloatTensor([3, 6])\n",
    "print(torch.stack([x,y,z]))\n",
    "print(torch.ones_like(x))\n",
    "print(torch.zeros_like(x))"
   ]
  },
  {
   "cell_type": "code",
   "execution_count": 58,
   "id": "0989907f-4c29-4982-8620-ae5007e8c48c",
   "metadata": {},
   "outputs": [
    {
     "name": "stdout",
     "output_type": "stream",
     "text": [
      "tensor([[2., 4.],\n",
      "        [6., 8.]])\n",
      "tensor([[1., 2.],\n",
      "        [3., 4.]])\n",
      "tensor([[2., 4.],\n",
      "        [6., 8.]])\n",
      "tensor([[2., 4.],\n",
      "        [6., 8.]])\n"
     ]
    }
   ],
   "source": [
    "x = torch.FloatTensor([[1, 2], [3, 4]])\n",
    "print(x.mul(2.))\n",
    "print(x)\n",
    "print(x.mul_(2.))\n",
    "print(x)"
   ]
  },
  {
   "cell_type": "code",
   "execution_count": 84,
   "id": "45ae16e5-b411-4a8c-9fa0-20178643f39c",
   "metadata": {},
   "outputs": [
    {
     "name": "stdout",
     "output_type": "stream",
     "text": [
      "33\n",
      "33\n",
      "10\n",
      "local variable 'result2' referenced before assignment\n"
     ]
    }
   ],
   "source": [
    "result1 = 0\n",
    "result2 = 0\n",
    "def add1(num):\n",
    "    global result1\n",
    "    result1 += num\n",
    "    return result\n",
    "def add2(num):\n",
    "    result2 += num\n",
    "    return result\n",
    "print(add1(3))\n",
    "print(add1(7))\n",
    "print(result1)\n",
    "try:    \n",
    "    print(add2(3))\n",
    "    print(add2(7))\n",
    "    print(result2)\n",
    "except Exception as e:\n",
    "    print(e)"
   ]
  },
  {
   "cell_type": "code",
   "execution_count": 106,
   "id": "f2444212-2b91-478f-9d4b-1ab3845d355e",
   "metadata": {},
   "outputs": [
    {
     "name": "stdout",
     "output_type": "stream",
     "text": [
      "Epoch    0/199999 W: 0.013, b: 0.006 Cost: 38.333332\n",
      "Epoch 10000/199999 W: 2.817, b: 0.083 Cost: 0.247086\n",
      "Epoch 20000/199999 W: 2.945, b: -0.208 Cost: 0.224470\n",
      "Epoch 30000/199999 W: 2.983, b: -0.296 Cost: 0.222426\n",
      "Epoch 40000/199999 W: 2.995, b: -0.322 Cost: 0.222241\n",
      "Epoch 50000/199999 W: 2.998, b: -0.330 Cost: 0.222224\n",
      "Epoch 60000/199999 W: 2.999, b: -0.332 Cost: 0.222222\n",
      "Epoch 70000/199999 W: 3.000, b: -0.333 Cost: 0.222222\n",
      "Epoch 80000/199999 W: 3.000, b: -0.333 Cost: 0.222222\n",
      "Epoch 90000/199999 W: 3.000, b: -0.333 Cost: 0.222222\n",
      "Epoch 100000/199999 W: 3.000, b: -0.333 Cost: 0.222222\n",
      "Epoch 110000/199999 W: 3.000, b: -0.333 Cost: 0.222222\n",
      "Epoch 120000/199999 W: 3.000, b: -0.333 Cost: 0.222222\n",
      "Epoch 130000/199999 W: 3.000, b: -0.333 Cost: 0.222222\n",
      "Epoch 140000/199999 W: 3.000, b: -0.333 Cost: 0.222222\n",
      "Epoch 150000/199999 W: 3.000, b: -0.333 Cost: 0.222222\n",
      "Epoch 160000/199999 W: 3.000, b: -0.333 Cost: 0.222222\n",
      "Epoch 170000/199999 W: 3.000, b: -0.333 Cost: 0.222222\n",
      "Epoch 180000/199999 W: 3.000, b: -0.333 Cost: 0.222222\n",
      "Epoch 190000/199999 W: 3.000, b: -0.333 Cost: 0.222222\n",
      "tensor([[2.6669],\n",
      "        [5.6667],\n",
      "        [8.6665]], grad_fn=<AddBackward0>)\n",
      "tensor([[3.],\n",
      "        [5.],\n",
      "        [9.]])\n",
      "tensor([[ 0.3331],\n",
      "        [-0.6667],\n",
      "        [ 0.3335]], grad_fn=<SubBackward0>)\n"
     ]
    }
   ],
   "source": [
    "# torch - linear regression\n",
    "# requirements with torch\n",
    "nn = torch.nn\n",
    "F = torch.nn.functional\n",
    "optim = torch.optim\n",
    "# if restart, get same result. random seed set\n",
    "torch.manual_seed(1)\n",
    "# train data\n",
    "x_train = torch.FloatTensor([[1], [2], [3]])\n",
    "y_train = torch.FloatTensor([[3], [5], [9]])\n",
    "# initial W,  b\n",
    "W = torch.zeros(1, requires_grad=True)\n",
    "b = torch.zeros(1, requires_grad=True)\n",
    "# set learning rate\n",
    "lr = 0.0005\n",
    "# gradient descent\n",
    "optimizer = optim.SGD([W,b], lr=lr)\n",
    "# train numbers\n",
    "nb_epochs = 199999\n",
    "for epoch in range(nb_epochs + 1):\n",
    "    # hypothesis\n",
    "    hypothesis = x_train * W + b\n",
    "    # cost function\n",
    "    cost = torch.mean((hypothesis - y_train) ** 2)\n",
    "    # initial gradient\n",
    "    optimizer.zero_grad()\n",
    "    # differential cost function \n",
    "    cost.backward()\n",
    "    # W, b update\n",
    "    optimizer.step()\n",
    "    # every 100 cycle log print\n",
    "    if epoch % 10000 == 0:\n",
    "        print('Epoch {:4d}/{} W: {:.3f}, b: {:.3f} Cost: {:.6f}'.format(\n",
    "            epoch, nb_epochs, W.item(), b.item(), cost.item()\n",
    "        ))\n",
    "# trained hypothesis\n",
    "y = W * x_train + b\n",
    "print(y)\n",
    "print(y_train)\n",
    "print(y_train-y)"
   ]
  },
  {
   "cell_type": "code",
   "execution_count": null,
   "id": "d68e19a3-72ae-4db9-806b-e2ac8788455b",
   "metadata": {},
   "outputs": [],
   "source": []
  }
 ],
 "metadata": {
  "kernelspec": {
   "display_name": "Python 3 (ipykernel)",
   "language": "python",
   "name": "python3"
  },
  "language_info": {
   "codemirror_mode": {
    "name": "ipython",
    "version": 3
   },
   "file_extension": ".py",
   "mimetype": "text/x-python",
   "name": "python",
   "nbconvert_exporter": "python",
   "pygments_lexer": "ipython3",
   "version": "3.8.12"
  }
 },
 "nbformat": 4,
 "nbformat_minor": 5
}
