{
 "cells": [
  {
   "cell_type": "code",
   "execution_count": 1,
   "id": "dea65f5a-71e0-4ef1-99ca-3bb8e4b411b5",
   "metadata": {},
   "outputs": [],
   "source": [
    "import torch\n",
    "import torchvision.datasets as dsets\n",
    "import torchvision.transforms as transforms\n",
    "from torch.utils.data import DataLoader\n",
    "import torch.nn as nn\n",
    "import matplotlib.pyplot as plt\n",
    "import random"
   ]
  },
  {
   "cell_type": "code",
   "execution_count": 2,
   "id": "a0518bdb-5719-4614-8fdc-b33c1ed710ad",
   "metadata": {},
   "outputs": [],
   "source": [
    "# MNIST data -> 28pixel * 28pixel. this data made for post code number classification\n",
    "# torchvision -> can use image dataset, models"
   ]
  },
  {
   "cell_type": "code",
   "execution_count": 3,
   "id": "b376d7ac-45c3-4da9-ba4a-ea4997166be3",
   "metadata": {},
   "outputs": [
    {
     "name": "stdout",
     "output_type": "stream",
     "text": [
      "False\n",
      "cpu\n"
     ]
    }
   ],
   "source": [
    "# Initialize\n",
    "USE_CUDA = torch.cuda.is_available()\n",
    "print(USE_CUDA)\n",
    "device = torch.device(\"cuda\" if USE_CUDA else \"cpu\")\n",
    "print(device)\n",
    "# for reproducibility\n",
    "random.seed(777)\n",
    "torch.manual_seed(777)\n",
    "if device == \"cuda\":\n",
    "    torch.cuda.manual_seed_all(777)\n",
    "# hyperparameters\n",
    "training_epochs = 15\n",
    "batch_size = 100\n",
    "# train, test data\n",
    "mnist_train = dsets.MNIST(root=\"MNIST_data/\", train=True, transform=transforms.ToTensor(), download=True)\n",
    "mnist_test = dsets.MNIST(root=\"MNIST_data/\", train=False, transform=transforms.ToTensor(), download=True)"
   ]
  },
  {
   "cell_type": "code",
   "execution_count": 9,
   "id": "42f397e2-4e33-482b-8f9d-f6a0bdfd93dd",
   "metadata": {},
   "outputs": [
    {
     "name": "stdout",
     "output_type": "stream",
     "text": [
      "Epoch: 0001 cost = 0.545618117\n",
      "Epoch: 0002 cost = 0.360055417\n",
      "Epoch: 0003 cost = 0.331717819\n",
      "Epoch: 0004 cost = 0.316928059\n",
      "Epoch: 0005 cost = 0.307513237\n",
      "Epoch: 0006 cost = 0.300605923\n",
      "Epoch: 0007 cost = 0.295045197\n",
      "Epoch: 0008 cost = 0.291010052\n",
      "Epoch: 0009 cost = 0.287675768\n",
      "Epoch: 0010 cost = 0.284666777\n",
      "Epoch: 0011 cost = 0.282105088\n",
      "Epoch: 0012 cost = 0.279965281\n",
      "Epoch: 0013 cost = 0.277848244\n",
      "Epoch: 0014 cost = 0.276174456\n",
      "Epoch: 0015 cost = 0.274743021\n",
      "[Parameter containing:\n",
      "tensor([[ 0.0183,  0.0253, -0.0326,  ..., -0.0016, -0.0334, -0.0183],\n",
      "        [-0.0319,  0.0153, -0.0080,  ..., -0.0044,  0.0185, -0.0122],\n",
      "        [-0.0206, -0.0221, -0.0154,  ...,  0.0310,  0.0246, -0.0088],\n",
      "        ...,\n",
      "        [ 0.0271,  0.0331,  0.0317,  ..., -0.0271,  0.0185, -0.0063],\n",
      "        [ 0.0196, -0.0171, -0.0349,  ...,  0.0199,  0.0007,  0.0009],\n",
      "        [-0.0211, -0.0025, -0.0094,  ...,  0.0232,  0.0124, -0.0033]],\n",
      "       requires_grad=True), Parameter containing:\n",
      "tensor([-0.4096,  0.5184,  0.2808, -0.2328,  0.1190,  1.7572, -0.0429,  0.9120,\n",
      "        -1.6040, -0.1961, -0.1108, -0.1526, -0.1368, -0.1537, -0.1302, -0.1248,\n",
      "        -0.1343, -0.1225, -0.1374], requires_grad=True)]\n",
      "Learning finished\n"
     ]
    }
   ],
   "source": [
    "# dataset loader -> batch_size is splitted train data size, drop_last prevent few data makes overestimation.\n",
    "data_loader = DataLoader(dataset=mnist_train, batch_size=batch_size, shuffle=True, drop_last=True)\n",
    "# model if cpu dont't need to do it. to(device)\n",
    "linear = nn.Linear(784, 19, bias=True).to(device)\n",
    "# cost function & optimizeer\n",
    "criterion = nn.CrossEntropyLoss().to(device)\n",
    "optimizer = torch.optim.SGD(linear.parameters(), lr=0.1)\n",
    "# training\n",
    "for epoch in range(training_epochs):\n",
    "    avg_cost = 0\n",
    "    total_batch = len(data_loader)\n",
    "    for X, Y in data_loader:\n",
    "        X = X.view(-1, 28*28).to(device)\n",
    "        Y = Y.to(device)\n",
    "        optimizer.zero_grad()\n",
    "        hypothesis = linear(X)\n",
    "        cost = criterion(hypothesis, Y)\n",
    "        cost.backward()\n",
    "        optimizer.step()\n",
    "        avg_cost += cost / total_batch\n",
    "    print('Epoch:', '%04d' % (epoch + 1), 'cost =', '{:.9f}'.format(avg_cost))\n",
    "print(list(linear.parameters()))\n",
    "print('Learning finished')"
   ]
  },
  {
   "cell_type": "code",
   "execution_count": 27,
   "id": "79078c2f-6523-4585-b839-ec960d11c2e6",
   "metadata": {},
   "outputs": [
    {
     "name": "stdout",
     "output_type": "stream",
     "text": [
      "Accuracy: 0.8827000260353088\n",
      "Label:  1\n",
      "Prediction:  1\n"
     ]
    },
    {
     "data": {
      "image/png": "[encoded data removed]",
      "text/plain": [
       "<Figure size 432x288 with 1 Axes>"
      ]
     },
     "metadata": {
      "needs_background": "light"
     },
     "output_type": "display_data"
    }
   ],
   "source": [
    "# model test\n",
    "with torch.no_grad():\n",
    "    X_test = mnist_test.test_data.view(-1, 28 * 28).float().to(device)\n",
    "    Y_test = mnist_test.test_labels.to(device)\n",
    "    prediction = linear(X_test)\n",
    "    correct_prediction = torch.argmax(prediction, 1) == Y_test\n",
    "    accuracy = correct_prediction.float().mean()\n",
    "    print('Accuracy:', accuracy.item())\n",
    "    r = random.randint(0, len(mnist_test) - 1)\n",
    "    X_single_data = mnist_test.test_data[r:r + 1].view(-1, 28 * 28).float().to(device)\n",
    "    Y_single_data = mnist_test.test_labels[r:r + 1].to(device)\n",
    "    print('Label: ', Y_single_data.item())\n",
    "    single_prediction = linear(X_single_data)\n",
    "    print('Prediction: ', torch.argmax(single_prediction, 1).item())\n",
    "    plt.imshow(mnist_test.test_data[r:r + 1].view(28,28), cmap='Greys', interpolation='nearest')\n",
    "    plt.show()"
   ]
  },
  {
   "cell_type": "code",
   "execution_count": 26,
   "id": "264818a3-3e77-4ec3-9fce-e546fc085b13",
   "metadata": {},
   "outputs": [
    {
     "data": {
      "text/plain": [
       "<matplotlib.image.AxesImage at 0x7f8f5f39a670>"
      ]
     },
     "execution_count": 26,
     "metadata": {},
     "output_type": "execute_result"
    },
    {
     "data": {
      "image/png": "[encoded data removed]",
      "text/plain": [
       "<Figure size 432x288 with 1 Axes>"
      ]
     },
     "metadata": {
      "needs_background": "light"
     },
     "output_type": "display_data"
    }
   ],
   "source": [
    "mnist_test.test_data.view(-1, 28 * 28).float()\n",
    "r = random.randint(0, len(mnist_test) - 1)\n",
    "plt.imshow(mnist_test.test_data[r:r + 1].view(28,28), cmap='Greys', interpolation='nearest')"
   ]
  },
  {
   "cell_type": "code",
   "execution_count": null,
   "id": "34351ad3-8b1b-496e-94d6-a4f63db6f5a0",
   "metadata": {},
   "outputs": [],
   "source": []
  }
 ],
 "metadata": {
  "kernelspec": {
   "display_name": "Python 3 (ipykernel)",
   "language": "python",
   "name": "python3"
  },
  "language_info": {
   "codemirror_mode": {
    "name": "ipython",
    "version": 3
   },
   "file_extension": ".py",
   "mimetype": "text/x-python",
   "name": "python",
   "nbconvert_exporter": "python",
   "pygments_lexer": "ipython3",
   "version": "3.8.12"
  }
 },
 "nbformat": 4,
 "nbformat_minor": 5
}
